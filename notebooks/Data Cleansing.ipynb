{
 "cells": [
  {
   "cell_type": "markdown",
   "metadata": {},
   "source": [
    "# Introduction\n",
    "\n",
    "Our project aims to identify an optimal pricing model using regression techniques to quantify what the reasonable price range of a car would be, which Atlas Motors would use for acquiring used cars for their rental fleet. Since there is complexity in determining the prices of cars due to various factors like COE, OMV and Sales Upselling, our model will reduce the frustrations and time consumption of used car purchases. \n",
    "\n",
    "In this study, we would be utilizing data science processes from data collection (web-scraping: BeautifulSoup, Python), data cleaning, exploratory data analysis to the model training and testing stage. The source of data comes SgCarMart, an online car sales portal in Singapore. "
   ]
  },
  {
   "cell_type": "code",
   "execution_count": 3,
   "metadata": {},
   "outputs": [],
   "source": [
    "import pandas as pd\n",
    "import numpy as np\n",
    "\n",
    "from sklearn.linear_model import LinearRegression, Lasso, LassoCV, Ridge, RidgeCV, ElasticNet, ElasticNetCV\n",
    "\n",
    "import  scipy.signal.signaltools\n",
    "\n",
    "def _centered(arr, newsize):\n",
    "    # Return the center newsize portion of the array.\n",
    "    newsize = np.asarray(newsize)\n",
    "    currsize = np.array(arr.shape)\n",
    "    startind = (currsize - newsize) // 2\n",
    "    endind = startind + newsize\n",
    "    myslice = [slice(startind[k], endind[k]) for k in range(len(endind))]\n",
    "    return arr[tuple(myslice)]\n",
    "\n",
    "scipy.signal.signaltools._centered = _centered\n",
    "import statsmodels.api as sm\n",
    "import statsmodels.formula.api as smf\n",
    "import patsy\n",
    "\n",
    "import matplotlib.pyplot as plt\n",
    "import seaborn as sns\n",
    "\n",
    "from sklearn.preprocessing import StandardScaler, MinMaxScaler\n",
    "from sklearn.model_selection import train_test_split\n",
    "from sklearn.model_selection import KFold\n",
    "from sklearn.model_selection import cross_val_score\n",
    "from sklearn.model_selection import GridSearchCV\n",
    "from sklearn.linear_model import LinearRegression\n",
    "from sklearn.linear_model import Lasso\n",
    "from sklearn.linear_model import ElasticNet\n",
    "from sklearn.tree import DecisionTreeRegressor\n",
    "from sklearn.neighbors import KNeighborsRegressor\n",
    "from sklearn.svm import SVR\n",
    "from sklearn.pipeline import Pipeline\n",
    "from sklearn.ensemble import RandomForestRegressor\n",
    "from sklearn.ensemble import GradientBoostingRegressor\n",
    "from sklearn.ensemble import ExtraTreesRegressor\n",
    "from sklearn.ensemble import AdaBoostRegressor\n",
    "from sklearn.metrics import mean_squared_error\n",
    "from sklearn.metrics import r2_score\n",
    "from sklearn.metrics import classification_report\n",
    "from sklearn.metrics import confusion_matrix\n",
    "from sklearn.metrics import plot_confusion_matrix\n",
    "from sklearn.metrics import accuracy_score\n",
    "%matplotlib inline\n",
    "sns.set_style('whitegrid')"
   ]
  },
  {
   "cell_type": "code",
   "execution_count": 4,
   "metadata": {},
   "outputs": [
    {
     "data": {
      "text/html": [
       "<div>\n",
       "<style scoped>\n",
       "    .dataframe tbody tr th:only-of-type {\n",
       "        vertical-align: middle;\n",
       "    }\n",
       "\n",
       "    .dataframe tbody tr th {\n",
       "        vertical-align: top;\n",
       "    }\n",
       "\n",
       "    .dataframe thead th {\n",
       "        text-align: right;\n",
       "    }\n",
       "</style>\n",
       "<table border=\"1\" class=\"dataframe\">\n",
       "  <thead>\n",
       "    <tr style=\"text-align: right;\">\n",
       "      <th></th>\n",
       "      <th>LISTING_URL</th>\n",
       "      <th>BRAND</th>\n",
       "      <th>PRICE</th>\n",
       "      <th>DEPRE_VALUE_PER_YEAR</th>\n",
       "      <th>REG_DATE</th>\n",
       "      <th>MILEAGE_KM</th>\n",
       "      <th>MANUFACTURED_YEAR</th>\n",
       "      <th>ROAD_TAX_PER_YEAR</th>\n",
       "      <th>TRANSMISSION</th>\n",
       "      <th>DEREG_VALUE_FROM_SCRAPE_DATE</th>\n",
       "      <th>SCRAPE_DATE</th>\n",
       "      <th>OMV</th>\n",
       "      <th>ARF</th>\n",
       "      <th>COE_FROM_SCRAPE_DATE</th>\n",
       "      <th>DAYS_OF_COE_LEFT</th>\n",
       "      <th>ENGINE_CAPACITY_CC</th>\n",
       "      <th>CURB_WEIGHT_KG</th>\n",
       "      <th>NO_OF_OWNERS</th>\n",
       "      <th>VEHICLE_TYPE</th>\n",
       "      <th>POST_DATE</th>\n",
       "    </tr>\n",
       "  </thead>\n",
       "  <tbody>\n",
       "    <tr>\n",
       "      <th>3655</th>\n",
       "      <td>https://www.sgcarmart.com/used_cars/info.php?I...</td>\n",
       "      <td>Kia</td>\n",
       "      <td>14500.0</td>\n",
       "      <td>14460.0</td>\n",
       "      <td>27-Jan-2010</td>\n",
       "      <td>NaN</td>\n",
       "      <td>2009.0</td>\n",
       "      <td>1033.0</td>\n",
       "      <td>Auto</td>\n",
       "      <td>3246.0</td>\n",
       "      <td>26/01/2024</td>\n",
       "      <td>14310.0</td>\n",
       "      <td>14310.0</td>\n",
       "      <td>16184.0</td>\n",
       "      <td>365.0</td>\n",
       "      <td>1591.0</td>\n",
       "      <td>1251.0</td>\n",
       "      <td>6.0</td>\n",
       "      <td>Mid-Sized Sedan</td>\n",
       "      <td>07-Jan-2024</td>\n",
       "    </tr>\n",
       "    <tr>\n",
       "      <th>1214</th>\n",
       "      <td>https://www.sgcarmart.com/used_cars/info.php?I...</td>\n",
       "      <td>Nissan</td>\n",
       "      <td>162888.0</td>\n",
       "      <td>18760.0</td>\n",
       "      <td>10-Jun-2022</td>\n",
       "      <td>20000.0</td>\n",
       "      <td>2022.0</td>\n",
       "      <td>NaN</td>\n",
       "      <td>Auto</td>\n",
       "      <td>93024.0</td>\n",
       "      <td>26/01/2024</td>\n",
       "      <td>24712.0</td>\n",
       "      <td>11597.0</td>\n",
       "      <td>100684.0</td>\n",
       "      <td>3044.0</td>\n",
       "      <td>1332.0</td>\n",
       "      <td>1380.0</td>\n",
       "      <td>1.0</td>\n",
       "      <td>NaN</td>\n",
       "      <td>06-Dec-2023</td>\n",
       "    </tr>\n",
       "    <tr>\n",
       "      <th>8717</th>\n",
       "      <td>https://www.sgcarmart.com/used_cars/info.php?I...</td>\n",
       "      <td>Toyota</td>\n",
       "      <td>82000.0</td>\n",
       "      <td>15670.0</td>\n",
       "      <td>06-Sep-2018</td>\n",
       "      <td>60700.0</td>\n",
       "      <td>2018.0</td>\n",
       "      <td>682.0</td>\n",
       "      <td>Auto</td>\n",
       "      <td>29187.0</td>\n",
       "      <td>26/01/2024</td>\n",
       "      <td>19419.0</td>\n",
       "      <td>19419.0</td>\n",
       "      <td>33798.0</td>\n",
       "      <td>1670.0</td>\n",
       "      <td>1496.0</td>\n",
       "      <td>1350.0</td>\n",
       "      <td>1.0</td>\n",
       "      <td>MPV</td>\n",
       "      <td>20-Jan-2024</td>\n",
       "    </tr>\n",
       "    <tr>\n",
       "      <th>12785</th>\n",
       "      <td>https://www.sgcarmart.com/used_cars/info.php?I...</td>\n",
       "      <td>Mazda</td>\n",
       "      <td>110800.0</td>\n",
       "      <td>14930.0</td>\n",
       "      <td>09-Feb-2021</td>\n",
       "      <td>65000.0</td>\n",
       "      <td>2019.0</td>\n",
       "      <td>682.0</td>\n",
       "      <td>Auto</td>\n",
       "      <td>38062.0</td>\n",
       "      <td>27/01/2024</td>\n",
       "      <td>24525.0</td>\n",
       "      <td>11335.0</td>\n",
       "      <td>42000.0</td>\n",
       "      <td>2557.0</td>\n",
       "      <td>1496.0</td>\n",
       "      <td>1397.0</td>\n",
       "      <td>1.0</td>\n",
       "      <td>NaN</td>\n",
       "      <td>19-Dec-2023</td>\n",
       "    </tr>\n",
       "    <tr>\n",
       "      <th>2908</th>\n",
       "      <td>https://www.sgcarmart.com/used_cars/info.php?I...</td>\n",
       "      <td>Honda</td>\n",
       "      <td>57800.0</td>\n",
       "      <td>15890.0</td>\n",
       "      <td>28-Mar-2017</td>\n",
       "      <td>88126.0</td>\n",
       "      <td>2017.0</td>\n",
       "      <td>682.0</td>\n",
       "      <td>Auto</td>\n",
       "      <td>25804.0</td>\n",
       "      <td>26/01/2024</td>\n",
       "      <td>19951.0</td>\n",
       "      <td>14951.0</td>\n",
       "      <td>50789.0</td>\n",
       "      <td>1156.0</td>\n",
       "      <td>1496.0</td>\n",
       "      <td>1185.0</td>\n",
       "      <td>1.0</td>\n",
       "      <td>SUV</td>\n",
       "      <td>15-Jan-2024</td>\n",
       "    </tr>\n",
       "  </tbody>\n",
       "</table>\n",
       "</div>"
      ],
      "text/plain": [
       "                                             LISTING_URL   BRAND     PRICE  \\\n",
       "3655   https://www.sgcarmart.com/used_cars/info.php?I...     Kia   14500.0   \n",
       "1214   https://www.sgcarmart.com/used_cars/info.php?I...  Nissan  162888.0   \n",
       "8717   https://www.sgcarmart.com/used_cars/info.php?I...  Toyota   82000.0   \n",
       "12785  https://www.sgcarmart.com/used_cars/info.php?I...   Mazda  110800.0   \n",
       "2908   https://www.sgcarmart.com/used_cars/info.php?I...   Honda   57800.0   \n",
       "\n",
       "       DEPRE_VALUE_PER_YEAR     REG_DATE  MILEAGE_KM  MANUFACTURED_YEAR  \\\n",
       "3655                14460.0  27-Jan-2010         NaN             2009.0   \n",
       "1214                18760.0  10-Jun-2022     20000.0             2022.0   \n",
       "8717                15670.0  06-Sep-2018     60700.0             2018.0   \n",
       "12785               14930.0  09-Feb-2021     65000.0             2019.0   \n",
       "2908                15890.0  28-Mar-2017     88126.0             2017.0   \n",
       "\n",
       "       ROAD_TAX_PER_YEAR TRANSMISSION  DEREG_VALUE_FROM_SCRAPE_DATE  \\\n",
       "3655              1033.0         Auto                        3246.0   \n",
       "1214                 NaN         Auto                       93024.0   \n",
       "8717               682.0         Auto                       29187.0   \n",
       "12785              682.0         Auto                       38062.0   \n",
       "2908               682.0         Auto                       25804.0   \n",
       "\n",
       "      SCRAPE_DATE      OMV      ARF  COE_FROM_SCRAPE_DATE  DAYS_OF_COE_LEFT  \\\n",
       "3655   26/01/2024  14310.0  14310.0               16184.0             365.0   \n",
       "1214   26/01/2024  24712.0  11597.0              100684.0            3044.0   \n",
       "8717   26/01/2024  19419.0  19419.0               33798.0            1670.0   \n",
       "12785  27/01/2024  24525.0  11335.0               42000.0            2557.0   \n",
       "2908   26/01/2024  19951.0  14951.0               50789.0            1156.0   \n",
       "\n",
       "       ENGINE_CAPACITY_CC  CURB_WEIGHT_KG  NO_OF_OWNERS     VEHICLE_TYPE  \\\n",
       "3655               1591.0          1251.0           6.0  Mid-Sized Sedan   \n",
       "1214               1332.0          1380.0           1.0              NaN   \n",
       "8717               1496.0          1350.0           1.0              MPV   \n",
       "12785              1496.0          1397.0           1.0              NaN   \n",
       "2908               1496.0          1185.0           1.0              SUV   \n",
       "\n",
       "         POST_DATE  \n",
       "3655   07-Jan-2024  \n",
       "1214   06-Dec-2023  \n",
       "8717   20-Jan-2024  \n",
       "12785  19-Dec-2023  \n",
       "2908   15-Jan-2024  "
      ]
     },
     "execution_count": 4,
     "metadata": {},
     "output_type": "execute_result"
    }
   ],
   "source": [
    "df_main = pd.read_csv('sgcarmart_used_cars_prices7.csv',index_col=0)\n",
    "df_main.sample(5)"
   ]
  },
  {
   "cell_type": "code",
   "execution_count": 5,
   "metadata": {},
   "outputs": [],
   "source": [
    "df_clean = df_main.drop(['LISTING_URL', 'SCRAPE_DATE'],axis=1)\n"
   ]
  },
  {
   "cell_type": "code",
   "execution_count": 6,
   "metadata": {},
   "outputs": [],
   "source": [
    "dropped_data=df_clean.dropna()"
   ]
  },
  {
   "cell_type": "code",
   "execution_count": 7,
   "metadata": {},
   "outputs": [
    {
     "name": "stderr",
     "output_type": "stream",
     "text": [
      "<ipython-input-7-b570e2461704>:2: UserWarning: Parsing dates in DD/MM/YYYY format when dayfirst=False (the default) was specified. This may lead to inconsistently parsed dates! Specify a format to ensure consistent parsing.\n",
      "  df_main['SCRAPE_DATE'] = pd.to_datetime(df_main['SCRAPE_DATE'])\n"
     ]
    }
   ],
   "source": [
    "df_clean=dropped_data\n",
    "df_main['SCRAPE_DATE'] = pd.to_datetime(df_main['SCRAPE_DATE'])\n",
    "df_clean['MANUFACTURED_YEAR'] = df_clean['MANUFACTURED_YEAR'].astype(int)\n",
    "df_clean['CAR_AGE'] = df_main['SCRAPE_DATE'].dt.year  - df_clean['MANUFACTURED_YEAR'] # Obtaining values for age of car\n"
   ]
  },
  {
   "cell_type": "code",
   "execution_count": 8,
   "metadata": {},
   "outputs": [],
   "source": [
    "df_clean['POST_DATE'] = pd.to_datetime(df_clean['POST_DATE'])\n",
    "df_clean['POST_AGE'] = (df_main['SCRAPE_DATE'] - df_clean['POST_DATE'])\n",
    "df_clean['POST_AGE']=df_clean['POST_AGE'].dt.days"
   ]
  },
  {
   "cell_type": "code",
   "execution_count": 9,
   "metadata": {},
   "outputs": [],
   "source": [
    "# Transmission conversion -> 1 for auto, 0 for manual (just 1 column only)\n",
    "\n",
    "df_clean['TRANSMISSION_CONVERT'] = df_clean['TRANSMISSION'].apply(lambda x: 1 if x == 'Auto' else 0)\n",
    "df_clean.drop('TRANSMISSION',axis=1,inplace=True)\n",
    "df_clean.rename(columns={'TRANSMISSION_CONVERT':\"TRANSMISSION\"}, inplace=True)  # Renaming column back\n"
   ]
  },
  {
   "cell_type": "code",
   "execution_count": 10,
   "metadata": {},
   "outputs": [],
   "source": [
    "veh_list=[]\n",
    "for veh in df_clean['VEHICLE_TYPE'].unique():\n",
    "    veh_list.append(veh)\n",
    "\n",
    "veh_list.sort()\n",
    "out = map(lambda x:x.lower(), veh_list)\n",
    "veh_list = list(out) \n"
   ]
  },
  {
   "cell_type": "code",
   "execution_count": 11,
   "metadata": {},
   "outputs": [],
   "source": [
    "df_clean['VEHICLE_TYPE']\n",
    "df_encoded = pd.get_dummies(df_clean['VEHICLE_TYPE'], prefix='VEHICLE_TYPE')\n",
    "\n",
    "# Concatenating the new columns to the original DataFrame\n",
    "df_encoded = df_encoded.astype(int)\n",
    "df_clean = pd.concat([df_clean, df_encoded], axis=1)\n"
   ]
  },
  {
   "cell_type": "markdown",
   "metadata": {},
   "source": [
    "## Feature Engineering: Categorization of BRAND Column\n"
   ]
  },
  {
   "cell_type": "code",
   "execution_count": 12,
   "metadata": {},
   "outputs": [
    {
     "data": {
      "text/plain": [
       "0        Mercedes-Benz\n",
       "2              Renault\n",
       "4               Toyota\n",
       "5                 Audi\n",
       "7                Mazda\n",
       "             ...      \n",
       "16586    Mercedes-Benz\n",
       "16587           Subaru\n",
       "16588          Porsche\n",
       "16589              BMW\n",
       "16591            Volvo\n",
       "Name: BRAND, Length: 10311, dtype: object"
      ]
     },
     "execution_count": 12,
     "metadata": {},
     "output_type": "execute_result"
    }
   ],
   "source": [
    "# Renaming Brand Names to their actual names\n",
    "df_clean2=df_clean\n",
    "df_clean2.loc[df_clean2['BRAND'] == 'Aston','BRAND'] = 'Aston Martin'\n",
    "df_clean2.loc[df_clean2['BRAND'] == 'Land','BRAND'] = 'Land Rover'\n",
    "df_clean2.loc[df_clean2['BRAND'] == 'Alfa', 'BRAND'] = 'Alfa Romeo'\n",
    "# Cleaning whitespaces from the values in \"Brand\" to prevent any messup later\n",
    "df_clean2['BRAND'].apply(str.strip)\n"
   ]
  },
  {
   "cell_type": "code",
   "execution_count": 13,
   "metadata": {},
   "outputs": [],
   "source": [
    "category_brands = {\n",
    "    'EXOTIC': ['Koenigsegg','Bugatti','Ferrari', 'Lamborghini','Aston Martin','McLaren','Hummer'],\n",
    "    'ULTRA_LUXURY': ['Porsche','Maserati','Rolls-Royce', 'Land Rover','Bentley','Maybach'],\n",
    "    'LUXURY': ['MINI','Mini','Alfa Romeo','Mercedes','Mercedes-Benz', 'BMW', 'Audi', 'Lexus','Jeep','Lotus','Volvo','Peugeot','Tesla','BYD','Acura','Cadillac','Jaguar','Infiniti','Chrysler','Lincoln','Genesis'],\n",
    "    'MID_LEVEL': ['Volkswagen','Renault','Ford', 'Chevrolet'],\n",
    "    'ECONOMY': ['Toyota','Honda','Hyundai', 'Kia', 'Nissan', 'Mazda','Mitsubishi','Subaru','Suzuki','Citroen','Proton','Ssangyong','Daihatsu','Fiat','Skoda','Opel','MG','SEAT','Perodua'],\n",
    "    'OTHERS': []  # An empty list for unspecified brands\n",
    "}\n",
    "\n",
    "# Reversing the categorization based on the 'Brand' column\n",
    "df_clean2['CAR_CATEGORY'] = df_clean2['BRAND'].apply(lambda x: next((category for category, brands in category_brands.items() if x in brands), 'OTHERS'))\n"
   ]
  },
  {
   "cell_type": "code",
   "execution_count": 14,
   "metadata": {},
   "outputs": [],
   "source": [
    "df_encoded = pd.get_dummies(df_clean2['CAR_CATEGORY'], prefix='CAR_CATEGORY')\n",
    "\n",
    "# Concatenating the new columns to the original DataFrame\n",
    "df_encoded = df_encoded.astype(int)\n",
    "df_clean2 = pd.concat([df_clean2, df_encoded], axis=1)\n"
   ]
  },
  {
   "cell_type": "code",
   "execution_count": 15,
   "metadata": {},
   "outputs": [],
   "source": [
    "df_clean_log=df_clean2.copy()\n",
    "df_clean_log[\"MILEAGE_KM\"] = df_clean_log['MILEAGE_KM'].apply(np.log)\n",
    "\n",
    "df_clean_log[\"DEPRE_VALUE_PER_YEAR\"] = df_clean_log['DEPRE_VALUE_PER_YEAR'].apply(np.log)\n",
    "df_clean_log[\"ROAD_TAX_PER_YEAR\"] = df_clean_log['ROAD_TAX_PER_YEAR'].apply(np.log)\n",
    "df_clean_log[\"DEREG_VALUE_FROM_SCRAPE_DATE\"] = df_clean_log['DEREG_VALUE_FROM_SCRAPE_DATE'].apply(np.log)\n",
    "df_clean_log[\"OMV\"] = df_clean_log['OMV'].apply(np.log)\n",
    "df_clean_log[\"ARF\"] = df_clean_log['ARF'].apply(np.log)\n",
    "df_clean_log[\"COE_FROM_SCRAPE_DATE\"] = df_clean_log['COE_FROM_SCRAPE_DATE'].apply(np.log)\n",
    "#df_clean_log[\"DAYS_OF_COE_LEFT\"] = df_clean_log['DAYS_OF_COE_LEFT'].apply(np.log)\n",
    "df_clean_log[\"ENGINE_CAPACITY_CC\"] = df_clean_log['ENGINE_CAPACITY_CC'].apply(np.log)\n",
    "df_clean_log[\"CURB_WEIGHT_KG\"] = df_clean_log['CURB_WEIGHT_KG'].apply(np.log)\n",
    "\n"
   ]
  },
  {
   "cell_type": "code",
   "execution_count": 16,
   "metadata": {},
   "outputs": [],
   "source": [
    "#Drop 'ARF', 'ROAD_TAX_PER_YEAR','REG_DATE','MANUFACTURED_YEAR','VEHICLE_TYPE','POST_DATE','CAR_CATEGORY'\n",
    "df_clean_log.drop('ARF', axis=1, inplace=True)\n",
    "df_clean_log.drop('ROAD_TAX_PER_YEAR', axis=1, inplace=True)\n",
    "\n",
    "#Dropping columns not needed in our regression as they have been encoded \n",
    "df_clean_log.drop('BRAND', axis=1, inplace=True)\n",
    "df_clean_log.drop('REG_DATE', axis=1, inplace=True)\n",
    "df_clean_log.drop('MANUFACTURED_YEAR', axis=1, inplace=True)\n",
    "df_clean_log.drop('VEHICLE_TYPE', axis=1, inplace=True)\n",
    "df_clean_log.drop('POST_DATE', axis=1, inplace=True)\n",
    "df_clean_log.drop('CAR_CATEGORY', axis=1, inplace=True)\n"
   ]
  },
  {
   "cell_type": "code",
   "execution_count": 17,
   "metadata": {},
   "outputs": [],
   "source": [
    "df_clean_log.to_csv('clean_log_data.csv', index=False)"
   ]
  },
  {
   "cell_type": "code",
   "execution_count": null,
   "metadata": {},
   "outputs": [],
   "source": []
  }
 ],
 "metadata": {
  "kernelspec": {
   "display_name": "Python 3",
   "language": "python",
   "name": "python3"
  },
  "language_info": {
   "codemirror_mode": {
    "name": "ipython",
    "version": 3
   },
   "file_extension": ".py",
   "mimetype": "text/x-python",
   "name": "python",
   "nbconvert_exporter": "python",
   "pygments_lexer": "ipython3",
   "version": "3.8.3"
  }
 },
 "nbformat": 4,
 "nbformat_minor": 5
}
