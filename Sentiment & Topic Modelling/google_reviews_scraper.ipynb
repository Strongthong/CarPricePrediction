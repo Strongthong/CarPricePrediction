{
 "cells": [
  {
   "cell_type": "code",
   "execution_count": 264,
   "metadata": {},
   "outputs": [],
   "source": [
    "import pandas as pd    \n",
    "from bs4 import BeautifulSoup\n",
    "from selenium import webdriver\n",
    "from selenium.webdriver.chrome.service import Service\n",
    "from webdriver_manager.chrome import ChromeDriverManager\n",
    "from selenium.webdriver.support.ui import WebDriverWait\n",
    "from selenium.webdriver.support import expected_conditions as EC\n",
    "from selenium.webdriver.common.by import By\n",
    "from lxml import html\n",
    "import time"
   ]
  },
  {
   "cell_type": "code",
   "execution_count": 282,
   "metadata": {},
   "outputs": [
    {
     "name": "stdout",
     "output_type": "stream",
     "text": [
      "Total number of reviews: 2398\n"
     ]
    }
   ],
   "source": [
    "# Set up the Selenium webdriver\n",
    "driver = webdriver.Chrome()\n",
    "url = 'https://www.google.com/maps/place/GetGo+Carsharing/@1.2943816,103.7871263,15z/data=!4m2!3m1!1s0x0:0x4dc7314e4bdb6399?sa=X&ved=2ahUKEwi5zrin0oyEAxWr1zgGHc19B80Q_BJ6BAhcEAA'\n",
    "driver.get(url)\n",
    "\n",
    "# Get the page source\n",
    "page_source = driver.page_source\n",
    "\n",
    "# Parse the HTML using lxml\n",
    "tree = html.fromstring(page_source)\n",
    "\n",
    "# Find the element with XPath\n",
    "xpath = '//*[@id=\"QA0Szd\"]/div/div/div[1]/div[2]/div/div[1]/div/div/div[2]/div/div[1]/div[2]/div/div[1]/div[2]/span[2]/span/span'\n",
    "reviews_element = tree.xpath(xpath)\n",
    "\n",
    "# Extract the total number of reviews (assuming it's a single element)\n",
    "if reviews_element:\n",
    "    # Extract the text content and use regular expression to get the number\n",
    "    total_reviews_text = reviews_element[0].text_content()\n",
    "    total_reviews = int(''.join(filter(str.isdigit, total_reviews_text)))\n",
    "    print(f'Total number of reviews: {total_reviews}')\n",
    "else:\n",
    "    print('Element not found')\n",
    "\n",
    "# Close the Selenium webdriver\n",
    "driver.quit()"
   ]
  },
  {
   "cell_type": "code",
   "execution_count": 283,
   "metadata": {},
   "outputs": [],
   "source": [
    "# Launch web driver\n",
    "driver = webdriver.Chrome(service=Service(ChromeDriverManager().install()))"
   ]
  },
  {
   "cell_type": "code",
   "execution_count": 284,
   "metadata": {},
   "outputs": [],
   "source": [
    "# Load google maps url\n",
    "# url = 'https://www.google.com/maps/place/CarTimes+Autolution+@+SinMing/@1.3595828,103.8361185,17z/data=!3m2!4b1!5s0x31da172e4e7d5c0b:0xcdc65f29ab85b4a5!4m6!3m5!1s0x31da17c644cef3a1:0x187163161ac34209!8m2!3d1.3595774!4d103.8386934!16s%2Fg%2F11ght0mjh_?entry=ttu'\n",
    "# https://www.google.com/maps/search/?api=1&query=Google&query_place_id=ChIJIS56-XFmZIgRsvTzijiFReo\n",
    "driver.get(url)\n",
    "\n",
    "# Click reviews link\n",
    "driver.find_element('xpath', '//*[@id=\"QA0Szd\"]/div/div/div[1]/div[2]/div/div[1]/div/div/div[3]/div/div/button[2]/div[2]/div[2]').click()\n",
    "time.sleep(5)\n"
   ]
  },
  {
   "cell_type": "code",
   "execution_count": 285,
   "metadata": {},
   "outputs": [],
   "source": [
    "# Parse html page\n",
    "response = BeautifulSoup(driver.page_source, 'html.parser')\n",
    "\n",
    "# Find total number of reviews\n",
    "# total_reviews = int(response.find('div', class_ = 'fontBodySmall').text.replace(' reviews', ''))\n",
    "# total_reviews=76\n",
    "\n",
    "# Find scroll layout\n",
    "scrollable_div = driver.find_element('xpath', '//*[@id=\"QA0Szd\"]/div/div/div[1]/div[2]/div/div[1]/div/div/div[2]')\n",
    "\n",
    "# Scroll as many times as necessary to load all reviews\n",
    "for i in range(0, (round(total_reviews / 5 - 1))):\n",
    "        driver.execute_script('arguments[0].scrollTop = arguments[0].scrollHeight', scrollable_div)\n",
    "        time.sleep(1)"
   ]
  },
  {
   "cell_type": "code",
   "execution_count": null,
   "metadata": {},
   "outputs": [],
   "source": [
    "# Re-parse html page after loading all reviews\n",
    "response = BeautifulSoup(driver.page_source, 'html.parser')\n",
    "\n",
    "print(response)\n",
    "\n",
    "# Close the Selenium webdriver\n",
    "driver.quit()\n",
    "\n",
    "# IOPub data rate exceeded.\n",
    "# The notebook server will temporarily stop sending output\n",
    "# to the client in order to avoid crashing it.\n",
    "# To change this limit, set the config variable\n",
    "# `--NotebookApp.iopub_data_rate_limit`.\n",
    "\n",
    "# Current values:\n",
    "# NotebookApp.iopub_data_rate_limit=1000000.0 (bytes/sec)\n",
    "# NotebookApp.rate_limit_window=3.0 (secs)"
   ]
  },
  {
   "cell_type": "code",
   "execution_count": null,
   "metadata": {},
   "outputs": [],
   "source": [
    "# Extract reviews\n",
    "review_ids = [review_id['data-review-id'] for review_id in response.findAll('div', class_= 'jftiEf')]\n",
    "review_dates = [review_date.text for review_date in response.findAll('span', class_ = 'rsqaWe')]\n",
    "reviewers = [reviewer['aria-label'] for reviewer in response.findAll('div', class_= 'jftiEf')]\n",
    "ratings = [rating['aria-label'].strip() for rating in response.findAll('span', class_ = 'kvMYJc')]\n",
    "review_texts = [review_text.text for review_text in response.findAll('span', class_ = 'wiI7pd')]"
   ]
  },
  {
   "cell_type": "code",
   "execution_count": null,
   "metadata": {},
   "outputs": [],
   "source": [
    "# Using len() function\n",
    "length_using_len = len(review_ids)\n",
    "print(\"review_ids:\", length_using_len)\n",
    "\n",
    "length_using_len = len(review_dates)\n",
    "print(\"review_dates:\", length_using_len)\n",
    "\n",
    "length_using_len = len(reviewers)\n",
    "print(\"reviewers:\", length_using_len)\n",
    "\n",
    "length_using_len = len(ratings)\n",
    "print(\"ratings:\", length_using_len)\n",
    "\n",
    "length_using_len = len(review_texts)\n",
    "print(\"review_texts:\", length_using_len)"
   ]
  },
  {
   "cell_type": "code",
   "execution_count": null,
   "metadata": {},
   "outputs": [],
   "source": [
    "# useful code to remain here for reference\n",
    "\n",
    "# combined_list = []\n",
    "\n",
    "# for rating, review_text in zip(ratings, review_texts):\n",
    "#     combined_item = f\"Rating: {rating}, Review Text: {review_text}\"\n",
    "#     combined_list.append(combined_item)\n",
    "    \n",
    "# reviews = pd.DataFrame({'Rating': [item.split(', ')[0].split(': ')[1] for item in combined_list],\n",
    "#                    'Review': [item.split(', ')[1].split(': ')[1] for item in combined_list]})\n",
    "\n",
    "# reviews"
   ]
  },
  {
   "cell_type": "code",
   "execution_count": null,
   "metadata": {},
   "outputs": [],
   "source": [
    "combined_list = []\n",
    "\n",
    "for rating, review_text, review_date in zip(ratings, review_texts, review_dates):\n",
    "    combined_item = f\"Rating: {rating}, Review Text: {review_text}, Review Date: {review_date}\"\n",
    "    combined_list.append(combined_item)\n",
    "\n",
    "# Extract 'Rating,' 'Review Text,' and 'Review Date' and create a list of dictionaries\n",
    "data_list = []\n",
    "for item in combined_list:\n",
    "    item_dict = {}\n",
    "    for pair in item.split(', '):\n",
    "        parts = pair.split(': ')\n",
    "        key = parts[0].strip()\n",
    "        value = parts[1].strip() if len(parts) > 1 else None\n",
    "        if key in ['Rating', 'Review Text', 'Review Date']:\n",
    "            item_dict[key] = value\n",
    "    data_list.append(item_dict)\n",
    "\n",
    "# Create a DataFrame from the list of dictionaries\n",
    "reviews = pd.DataFrame(data_list)\n",
    "\n",
    "# Display the DataFrame\n",
    "reviews\n"
   ]
  },
  {
   "cell_type": "code",
   "execution_count": null,
   "metadata": {},
   "outputs": [],
   "source": [
    "# Assume you already have a DataFrame named review_texts\n",
    "company = 'getgo'\n",
    "file_path = f'./{company}_reviews.csv'  # Use './' to save in the current directory\n",
    "\n",
    "# Saving the DataFrame to a CSV file with the specified path\n",
    "reviews.to_csv(file_path, index=False) \n"
   ]
  },
  {
   "cell_type": "code",
   "execution_count": null,
   "metadata": {},
   "outputs": [],
   "source": []
  },
  {
   "cell_type": "code",
   "execution_count": null,
   "metadata": {},
   "outputs": [],
   "source": []
  },
  {
   "cell_type": "code",
   "execution_count": null,
   "metadata": {},
   "outputs": [],
   "source": []
  }
 ],
 "metadata": {
  "kernelspec": {
   "display_name": "Python 3",
   "language": "python",
   "name": "python3"
  },
  "language_info": {
   "codemirror_mode": {
    "name": "ipython",
    "version": 3
   },
   "file_extension": ".py",
   "mimetype": "text/x-python",
   "name": "python",
   "nbconvert_exporter": "python",
   "pygments_lexer": "ipython3",
   "version": "3.8.3"
  },
  "vscode": {
   "interpreter": {
    "hash": "3d6140ef0c675026b0200147df87972487ebc0097827c4c765c9e0dcd9cf7b2f"
   }
  }
 },
 "nbformat": 4,
 "nbformat_minor": 2
}
