{
 "cells": [
  {
   "cell_type": "code",
   "execution_count": 12,
   "metadata": {},
   "outputs": [],
   "source": [
    "import pandas as pd    \n",
    "from bs4 import BeautifulSoup\n",
    "from selenium import webdriver\n",
    "from selenium.webdriver.chrome.service import Service\n",
    "from webdriver_manager.chrome import ChromeDriverManager\n",
    "from selenium.webdriver.support.ui import WebDriverWait\n",
    "from selenium.webdriver.support import expected_conditions as EC\n",
    "from selenium.webdriver.common.by import By\n",
    "from lxml import html\n",
    "import time"
   ]
  },
  {
   "cell_type": "code",
   "execution_count": 13,
   "metadata": {},
   "outputs": [
    {
     "name": "stdout",
     "output_type": "stream",
     "text": [
      "Total number of reviews: 2407\n"
     ]
    }
   ],
   "source": [
    "# Set up the Selenium webdriver\n",
    "driver = webdriver.Chrome()\n",
    "url = 'https://www.google.com/maps/place/GetGo+Carsharing/@1.2943816,103.7871263,15z/data=!4m2!3m1!1s0x0:0x4dc7314e4bdb6399?sa=X&ved=2ahUKEwi5zrin0oyEAxWr1zgGHc19B80Q_BJ6BAhcEAA'\n",
    "driver.get(url)\n",
    "\n",
    "# Get the page source\n",
    "page_source = driver.page_source\n",
    "\n",
    "# Parse the HTML using lxml\n",
    "tree = html.fromstring(page_source)\n",
    "\n",
    "# Find the element with XPath\n",
    "xpath = '//*[@id=\"QA0Szd\"]/div/div/div[1]/div[2]/div/div[1]/div/div/div[2]/div/div[1]/div[2]/div/div[1]/div[2]/span[2]/span/span'\n",
    "reviews_element = tree.xpath(xpath)\n",
    "\n",
    "# Extract the total number of reviews (assuming it's a single element)\n",
    "if reviews_element:\n",
    "    # Extract the text content and use regular expression to get the number\n",
    "    total_reviews_text = reviews_element[0].text_content()\n",
    "    total_reviews = int(''.join(filter(str.isdigit, total_reviews_text)))\n",
    "    print(f'Total number of reviews: {total_reviews}')\n",
    "else:\n",
    "    print('Element not found')\n",
    "\n",
    "# Close the Selenium webdriver\n",
    "# driver.quit()"
   ]
  },
  {
   "cell_type": "code",
   "execution_count": 14,
   "metadata": {},
   "outputs": [],
   "source": [
    "# Launch web driver\n",
    "# driver = webdriver.Chrome(service=Service(ChromeDriverManager().install()))"
   ]
  },
  {
   "cell_type": "code",
   "execution_count": 15,
   "metadata": {},
   "outputs": [],
   "source": [
    "# Load google maps url\n",
    "# url = 'https://www.google.com/maps/place/CarTimes+Autolution+@+SinMing/@1.3595828,103.8361185,17z/data=!3m2!4b1!5s0x31da172e4e7d5c0b:0xcdc65f29ab85b4a5!4m6!3m5!1s0x31da17c644cef3a1:0x187163161ac34209!8m2!3d1.3595774!4d103.8386934!16s%2Fg%2F11ght0mjh_?entry=ttu'\n",
    "# https://www.google.com/maps/search/?api=1&query=Google&query_place_id=ChIJIS56-XFmZIgRsvTzijiFReo\n",
    "driver.get(url)\n",
    "\n",
    "# Click reviews link\n",
    "driver.find_element('xpath', '//*[@id=\"QA0Szd\"]/div/div/div[1]/div[2]/div/div[1]/div/div/div[3]/div/div/button[2]/div[2]/div[2]').click()\n",
    "time.sleep(5)\n"
   ]
  },
  {
   "cell_type": "code",
   "execution_count": 16,
   "metadata": {},
   "outputs": [],
   "source": [
    "# Parse html page\n",
    "response = BeautifulSoup(driver.page_source, 'html.parser')\n",
    "\n",
    "# Find total number of reviews\n",
    "# total_reviews = int(response.find('div', class_ = 'fontBodySmall').text.replace(' reviews', ''))\n",
    "# total_reviews=76\n",
    "\n",
    "# Find scroll layout\n",
    "scrollable_div = driver.find_element('xpath', '//*[@id=\"QA0Szd\"]/div/div/div[1]/div[2]/div/div[1]/div/div/div[2]')\n",
    "\n",
    "# Scroll as many times as necessary to load all reviews\n",
    "for i in range(0, (round(total_reviews / 5 - 1))):\n",
    "        driver.execute_script('arguments[0].scrollTop = arguments[0].scrollHeight', scrollable_div)\n",
    "        time.sleep(1)"
   ]
  },
  {
   "cell_type": "code",
   "execution_count": 17,
   "metadata": {},
   "outputs": [],
   "source": [
    "# Re-parse html page after loading all reviews\n",
    "response = BeautifulSoup(driver.page_source, 'html.parser')\n",
    "\n",
    "# print(response)\n",
    "\n",
    "# Close the Selenium webdriver\n",
    "driver.quit()\n",
    "\n",
    "# IOPub data rate exceeded.\n",
    "# The notebook server will temporarily stop sending output\n",
    "# to the client in order to avoid crashing it.\n",
    "# To change this limit, set the config variable\n",
    "# `--NotebookApp.iopub_data_rate_limit`.\n",
    "\n",
    "# Current values:\n",
    "# NotebookApp.iopub_data_rate_limit=1000000.0 (bytes/sec)\n",
    "# NotebookApp.rate_limit_window=3.0 (secs)"
   ]
  },
  {
   "cell_type": "code",
   "execution_count": 18,
   "metadata": {},
   "outputs": [],
   "source": [
    "# Extract reviews\n",
    "review_ids = [review_id['data-review-id'] for review_id in response.findAll('div', class_= 'jftiEf')]\n",
    "review_dates = [review_date.text for review_date in response.findAll('span', class_ = 'rsqaWe')]\n",
    "reviewers = [reviewer['aria-label'] for reviewer in response.findAll('div', class_= 'jftiEf')]\n",
    "ratings = [rating['aria-label'].strip() for rating in response.findAll('span', class_ = 'kvMYJc')]\n",
    "review_texts = [review_text.text for review_text in response.findAll('span', class_ = 'wiI7pd')]"
   ]
  },
  {
   "cell_type": "code",
   "execution_count": 19,
   "metadata": {},
   "outputs": [
    {
     "name": "stdout",
     "output_type": "stream",
     "text": [
      "review_ids: 1710\n",
      "review_dates: 1710\n",
      "reviewers: 1710\n",
      "ratings: 1710\n",
      "review_texts: 1710\n"
     ]
    }
   ],
   "source": [
    "# Using len() function\n",
    "length_using_len = len(review_ids)\n",
    "print(\"review_ids:\", length_using_len)\n",
    "\n",
    "length_using_len = len(review_dates)\n",
    "print(\"review_dates:\", length_using_len)\n",
    "\n",
    "length_using_len = len(reviewers)\n",
    "print(\"reviewers:\", length_using_len)\n",
    "\n",
    "length_using_len = len(ratings)\n",
    "print(\"ratings:\", length_using_len)\n",
    "\n",
    "length_using_len = len(review_texts)\n",
    "print(\"review_texts:\", length_using_len)"
   ]
  },
  {
   "cell_type": "code",
   "execution_count": 20,
   "metadata": {},
   "outputs": [],
   "source": [
    "# useful code to remain here for reference\n",
    "\n",
    "# combined_list = []\n",
    "\n",
    "# for rating, review_text in zip(ratings, review_texts):\n",
    "#     combined_item = f\"Rating: {rating}, Review Text: {review_text}\"\n",
    "#     combined_list.append(combined_item)\n",
    "    \n",
    "# reviews = pd.DataFrame({'Rating': [item.split(', ')[0].split(': ')[1] for item in combined_list],\n",
    "#                    'Review': [item.split(', ')[1].split(': ')[1] for item in combined_list]})\n",
    "\n",
    "# reviews"
   ]
  },
  {
   "cell_type": "code",
   "execution_count": 21,
   "metadata": {},
   "outputs": [
    {
     "data": {
      "text/html": [
       "<div>\n",
       "<style scoped>\n",
       "    .dataframe tbody tr th:only-of-type {\n",
       "        vertical-align: middle;\n",
       "    }\n",
       "\n",
       "    .dataframe tbody tr th {\n",
       "        vertical-align: top;\n",
       "    }\n",
       "\n",
       "    .dataframe thead th {\n",
       "        text-align: right;\n",
       "    }\n",
       "</style>\n",
       "<table border=\"1\" class=\"dataframe\">\n",
       "  <thead>\n",
       "    <tr style=\"text-align: right;\">\n",
       "      <th></th>\n",
       "      <th>Rating</th>\n",
       "      <th>Review Text</th>\n",
       "      <th>Review Date</th>\n",
       "    </tr>\n",
       "  </thead>\n",
       "  <tbody>\n",
       "    <tr>\n",
       "      <th>0</th>\n",
       "      <td>5 stars</td>\n",
       "      <td>A great car sharing with many types of cars</td>\n",
       "      <td>2 months ago</td>\n",
       "    </tr>\n",
       "    <tr>\n",
       "      <th>1</th>\n",
       "      <td>1 star</td>\n",
       "      <td>As a frequent GetGo customer</td>\n",
       "      <td>2 months ago</td>\n",
       "    </tr>\n",
       "    <tr>\n",
       "      <th>2</th>\n",
       "      <td>4 stars</td>\n",
       "      <td>I was thrilled to drive an EV Hyundai Kona nea...</td>\n",
       "      <td>2 months ago</td>\n",
       "    </tr>\n",
       "    <tr>\n",
       "      <th>3</th>\n",
       "      <td>5 stars</td>\n",
       "      <td>GetGo is convenient to book and easy to use th...</td>\n",
       "      <td>2 months ago</td>\n",
       "    </tr>\n",
       "    <tr>\n",
       "      <th>4</th>\n",
       "      <td>5 stars</td>\n",
       "      <td>Great Car-Sharing service! Able to book a car ...</td>\n",
       "      <td>2 months ago</td>\n",
       "    </tr>\n",
       "    <tr>\n",
       "      <th>...</th>\n",
       "      <td>...</td>\n",
       "      <td>...</td>\n",
       "      <td>...</td>\n",
       "    </tr>\n",
       "    <tr>\n",
       "      <th>1705</th>\n",
       "      <td>5 stars</td>\n",
       "      <td>Convenient and easy to use 👌 …</td>\n",
       "      <td>a month ago</td>\n",
       "    </tr>\n",
       "    <tr>\n",
       "      <th>1706</th>\n",
       "      <td>5 stars</td>\n",
       "      <td>Better and more convenient than other hourly r...</td>\n",
       "      <td>a year ago</td>\n",
       "    </tr>\n",
       "    <tr>\n",
       "      <th>1707</th>\n",
       "      <td>5 stars</td>\n",
       "      <td>Sign up very fast… no deposit gd! I like this ...</td>\n",
       "      <td>2 years ago</td>\n",
       "    </tr>\n",
       "    <tr>\n",
       "      <th>1708</th>\n",
       "      <td>4 stars</td>\n",
       "      <td>Very pleased with the service. The cars are al...</td>\n",
       "      <td>a year ago</td>\n",
       "    </tr>\n",
       "    <tr>\n",
       "      <th>1709</th>\n",
       "      <td>5 stars</td>\n",
       "      <td>Extremely useful!!!</td>\n",
       "      <td>2 months ago</td>\n",
       "    </tr>\n",
       "  </tbody>\n",
       "</table>\n",
       "<p>1710 rows × 3 columns</p>\n",
       "</div>"
      ],
      "text/plain": [
       "       Rating                                        Review Text   Review Date\n",
       "0     5 stars        A great car sharing with many types of cars  2 months ago\n",
       "1      1 star                       As a frequent GetGo customer  2 months ago\n",
       "2     4 stars  I was thrilled to drive an EV Hyundai Kona nea...  2 months ago\n",
       "3     5 stars  GetGo is convenient to book and easy to use th...  2 months ago\n",
       "4     5 stars  Great Car-Sharing service! Able to book a car ...  2 months ago\n",
       "...       ...                                                ...           ...\n",
       "1705  5 stars                     Convenient and easy to use 👌 …   a month ago\n",
       "1706  5 stars  Better and more convenient than other hourly r...    a year ago\n",
       "1707  5 stars  Sign up very fast… no deposit gd! I like this ...   2 years ago\n",
       "1708  4 stars  Very pleased with the service. The cars are al...    a year ago\n",
       "1709  5 stars                                Extremely useful!!!  2 months ago\n",
       "\n",
       "[1710 rows x 3 columns]"
      ]
     },
     "execution_count": 21,
     "metadata": {},
     "output_type": "execute_result"
    }
   ],
   "source": [
    "combined_list = []\n",
    "\n",
    "for rating, review_text, review_date in zip(ratings, review_texts, review_dates):\n",
    "    combined_item = f\"Rating: {rating}, Review Text: {review_text}, Review Date: {review_date}\"\n",
    "    combined_list.append(combined_item)\n",
    "\n",
    "# Extract 'Rating,' 'Review Text,' and 'Review Date' and create a list of dictionaries\n",
    "data_list = []\n",
    "for item in combined_list:\n",
    "    item_dict = {}\n",
    "    for pair in item.split(', '):\n",
    "        parts = pair.split(': ')\n",
    "        key = parts[0].strip()\n",
    "        value = parts[1].strip() if len(parts) > 1 else None\n",
    "        if key in ['Rating', 'Review Text', 'Review Date']:\n",
    "            item_dict[key] = value\n",
    "    data_list.append(item_dict)\n",
    "\n",
    "# Create a DataFrame from the list of dictionaries\n",
    "reviews = pd.DataFrame(data_list)\n",
    "\n",
    "# Display the DataFrame\n",
    "reviews\n"
   ]
  },
  {
   "cell_type": "code",
   "execution_count": 22,
   "metadata": {},
   "outputs": [],
   "source": [
    "# Assume you already have a DataFrame named review_texts\n",
    "company = 'getgo'\n",
    "file_path = f'./{company}_reviews.csv'  # Use './' to save in the current directory\n",
    "\n",
    "# Saving the DataFrame to a CSV file with the specified path\n",
    "reviews.to_csv(file_path, index=False) \n"
   ]
  },
  {
   "cell_type": "code",
   "execution_count": null,
   "metadata": {},
   "outputs": [],
   "source": []
  },
  {
   "cell_type": "code",
   "execution_count": null,
   "metadata": {},
   "outputs": [],
   "source": []
  }
 ],
 "metadata": {
  "kernelspec": {
   "display_name": "Python 3 (ipykernel)",
   "language": "python",
   "name": "python3"
  },
  "language_info": {
   "codemirror_mode": {
    "name": "ipython",
    "version": 3
   },
   "file_extension": ".py",
   "mimetype": "text/x-python",
   "name": "python",
   "nbconvert_exporter": "python",
   "pygments_lexer": "ipython3",
   "version": "3.11.5"
  },
  "vscode": {
   "interpreter": {
    "hash": "3d6140ef0c675026b0200147df87972487ebc0097827c4c765c9e0dcd9cf7b2f"
   }
  }
 },
 "nbformat": 4,
 "nbformat_minor": 2
}
