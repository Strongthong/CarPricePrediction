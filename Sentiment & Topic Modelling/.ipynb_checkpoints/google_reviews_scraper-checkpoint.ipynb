{
 "cells": [
  {
   "cell_type": "code",
   "execution_count": 76,
   "metadata": {},
   "outputs": [],
   "source": [
    "import pandas as pd    \n",
    "from bs4 import BeautifulSoup\n",
    "from selenium import webdriver\n",
    "from selenium.webdriver.chrome.service import Service\n",
    "from webdriver_manager.chrome import ChromeDriverManager\n",
    "from selenium.webdriver.support.ui import WebDriverWait\n",
    "from selenium.webdriver.support import expected_conditions as EC\n",
    "from selenium.webdriver.common.by import By\n",
    "import time"
   ]
  },
  {
   "cell_type": "code",
   "execution_count": 77,
   "metadata": {},
   "outputs": [],
   "source": [
    "# Launch web driver\n",
    "driver = webdriver.Chrome(service=Service(ChromeDriverManager().install()))"
   ]
  },
  {
   "cell_type": "code",
   "execution_count": null,
   "metadata": {},
   "outputs": [],
   "source": [
    "# Load google maps url\n",
    "url = 'https://www.google.com/maps/place/CarTimes+Autolution+@+SinMing/@1.3595828,103.8361185,17z/data=!3m2!4b1!5s0x31da172e4e7d5c0b:0xcdc65f29ab85b4a5!4m6!3m5!1s0x31da17c644cef3a1:0x187163161ac34209!8m2!3d1.3595774!4d103.8386934!16s%2Fg%2F11ght0mjh_?entry=ttu'\n",
    "# https://www.google.com/maps/search/?api=1&query=Google&query_place_id=ChIJIS56-XFmZIgRsvTzijiFReo\n",
    "driver.get(url)\n",
    "\n",
    "# Click reviews link\n",
    "driver.find_element('xpath', '//*[@id=\"QA0Szd\"]/div/div/div[1]/div[2]/div/div[1]/div/div/div[3]/div/div/button[2]/div[2]/div[2]').click()\n",
    "time.sleep(5)\n",
    "\n",
    "\n",
    "# # Click sort button\n",
    "# wait = WebDriverWait(driver, 10)\n",
    "# menu_bt = wait.until(EC.element_to_be_clickable((By.XPATH, '//button[@data-value=\\'Sort\\']')))  \n",
    "# menu_bt.click()\n",
    "\n",
    "# # Sort by newest reviews - got issue!!!!!!!\n",
    "# recent_rating_bt = driver.find_elements('xpath', '//li[@data-index=\\'1\\']')[0]\n",
    "# recent_rating_bt.click()\n",
    "# time.sleep(5)"
   ]
  },
  {
   "cell_type": "code",
   "execution_count": null,
   "metadata": {},
   "outputs": [],
   "source": [
    "# Parse html page\n",
    "response = BeautifulSoup(driver.page_source, 'html.parser')\n",
    "\n",
    "# Find total number of reviews -  got issue!!!!!!!!\n",
    "# total_reviews = int(response.find('div', class_ = 'fontBodySmall').text.replace(' reviews', ''))\n",
    "total_reviews=76\n",
    "\n",
    "# Find scroll layout\n",
    "scrollable_div = driver.find_element('xpath', '//*[@id=\"QA0Szd\"]/div/div/div[1]/div[2]/div/div[1]/div/div/div[2]')\n",
    "\n",
    "# Scroll as many times as necessary to load all reviews\n",
    "for i in range(0, (round(total_reviews / 5 - 1))):\n",
    "        driver.execute_script('arguments[0].scrollTop = arguments[0].scrollHeight', scrollable_div)\n",
    "        time.sleep(1)"
   ]
  },
  {
   "cell_type": "code",
   "execution_count": null,
   "metadata": {},
   "outputs": [],
   "source": [
    "# Find the element with class 'fontBodySmall'\n",
    "# reviews_element = soup.find('div', class_='fontBodySmall')\n",
    "\n",
    "# print(reviews_element)"
   ]
  },
  {
   "cell_type": "code",
   "execution_count": null,
   "metadata": {},
   "outputs": [],
   "source": [
    "# total_reviews = response.find('div', class_ = 'fontBodySmall').text.replace(' reviews', '')\n",
    "# total_reviews"
   ]
  },
  {
   "cell_type": "code",
   "execution_count": null,
   "metadata": {},
   "outputs": [],
   "source": [
    "total_reviews = int(response.find('div', class_ = 'fontBodySmall').text.replace(' reviews', ''))"
   ]
  },
  {
   "cell_type": "code",
   "execution_count": null,
   "metadata": {},
   "outputs": [],
   "source": [
    "# Re-parse html page after loading all reviews\n",
    "response = BeautifulSoup(driver.page_source, 'html.parser')\n",
    "print(response)"
   ]
  },
  {
   "cell_type": "code",
   "execution_count": null,
   "metadata": {},
   "outputs": [],
   "source": [
    "# Extract reviews\n",
    "review_ids = [review_id['data-review-id'] for review_id in response.findAll('div', class_= 'jftiEf')]\n",
    "review_dates = [review_date.text for review_date in response.findAll('span', class_ = 'rsqaWe')]\n",
    "reviewers = [reviewer['aria-label'] for reviewer in response.findAll('div', class_= 'jftiEf')]\n",
    "ratings = [rating['aria-label'].strip() for rating in response.findAll('span', class_ = 'kvMYJc')]\n",
    "review_texts = [review_text.text for review_text in response.findAll('span', class_ = 'wiI7pd')]"
   ]
  },
  {
   "cell_type": "code",
   "execution_count": null,
   "metadata": {},
   "outputs": [],
   "source": [
    "# Using len() function\n",
    "length_using_len = len(review_ids)\n",
    "print(\"review_ids:\", length_using_len)\n",
    "\n",
    "length_using_len = len(review_dates)\n",
    "print(\"review_dates:\", length_using_len)\n",
    "\n",
    "length_using_len = len(reviewers)\n",
    "print(\"reviewers:\", length_using_len)\n",
    "\n",
    "length_using_len = len(ratings)\n",
    "print(\"ratings:\", length_using_len)\n",
    "\n",
    "length_using_len = len(review_texts)\n",
    "print(\"review_texts:\", length_using_len)"
   ]
  },
  {
   "cell_type": "code",
   "execution_count": null,
   "metadata": {},
   "outputs": [],
   "source": [
    "combined_list = []\n",
    "\n",
    "for rating, review_text in zip(ratings, review_texts):\n",
    "    combined_item = f\"Rating: {rating}, Review Text: {review_text}\"\n",
    "    combined_list.append(combined_item)\n",
    "    \n",
    "reviews = pd.DataFrame({'Rating': [item.split(', ')[0].split(': ')[1] for item in combined_list],\n",
    "                   'Review': [item.split(', ')[1].split(': ')[1] for item in combined_list]})\n",
    "\n",
    "reviews"
   ]
  },
  {
   "cell_type": "code",
   "execution_count": null,
   "metadata": {},
   "outputs": [],
   "source": [
    "# Assume you already have a DataFrame named review_texts\n",
    "company = 'cartimes'\n",
    "file_path = f'./{company}_reviews.csv'  # Use './' to save in the current directory\n",
    "\n",
    "# Saving the DataFrame to a CSV file with the specified path\n",
    "df.to_csv(file_path, index=False) \n"
   ]
  }
 ],
 "metadata": {
  "kernelspec": {
   "display_name": "Python 3",
   "language": "python",
   "name": "python3"
  },
  "language_info": {
   "codemirror_mode": {
    "name": "ipython",
    "version": 3
   },
   "file_extension": ".py",
   "mimetype": "text/x-python",
   "name": "python",
   "nbconvert_exporter": "python",
   "pygments_lexer": "ipython3",
   "version": "3.8.3"
  },
  "vscode": {
   "interpreter": {
    "hash": "3d6140ef0c675026b0200147df87972487ebc0097827c4c765c9e0dcd9cf7b2f"
   }
  }
 },
 "nbformat": 4,
 "nbformat_minor": 2
}
