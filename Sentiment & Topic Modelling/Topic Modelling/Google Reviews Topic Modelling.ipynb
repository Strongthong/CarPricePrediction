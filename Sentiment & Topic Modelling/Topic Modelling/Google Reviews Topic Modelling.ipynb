{
 "cells": [
  {
   "cell_type": "markdown",
   "metadata": {},
   "source": [
    "<table class=\"table table-bordered\">\n",
    "    <tr>\n",
    "<!--         <th style=\"text-align:center; width:30%\"><img src='https://drive.google.com/uc?export=view&id=1iEILhi-REsl4vk6cfd7yhNiTrAB-RVat' style=\"width: 100px; height: 80px; \"></th> -->\n",
    "        <th style=\"text-align:center;\"><h3>Final Year Proect</h3><h3>Google Reviews Topic Modelling</h3><h4>LDA</h4></th>\n",
    "    </tr>\n",
    "</table>"
   ]
  },
  {
   "cell_type": "code",
   "execution_count": 1,
   "metadata": {},
   "outputs": [],
   "source": [
    "# import the required libraries\n",
    "import numpy as np\n",
    "import pandas as pd\n",
    "import matplotlib.pyplot as plt\n",
    "import os\n",
    "# os.chdir('./')"
   ]
  },
  {
   "cell_type": "markdown",
   "metadata": {},
   "source": [
    "### 1. Reading the data and basic EDA"
   ]
  },
  {
   "cell_type": "code",
   "execution_count": 2,
   "metadata": {
    "scrolled": true
   },
   "outputs": [],
   "source": [
    "# Write your code below\n",
    "\n",
    "# Solution\n",
    "reviews = pd.read_csv (r'C:\\Users\\alext\\OneDrive - Singapore Management University\\Desktop\\SMU General Shit\\Y4S2 (FYP)\\Project_2_SgCarMart Price Prediction\\CarPricePrediction\\Sentiment & Topic Modelling\\getgo_reviews.csv')\n"
   ]
  },
  {
   "cell_type": "code",
   "execution_count": 3,
   "metadata": {},
   "outputs": [
    {
     "data": {
      "text/html": [
       "<div>\n",
       "<style scoped>\n",
       "    .dataframe tbody tr th:only-of-type {\n",
       "        vertical-align: middle;\n",
       "    }\n",
       "\n",
       "    .dataframe tbody tr th {\n",
       "        vertical-align: top;\n",
       "    }\n",
       "\n",
       "    .dataframe thead th {\n",
       "        text-align: right;\n",
       "    }\n",
       "</style>\n",
       "<table border=\"1\" class=\"dataframe\">\n",
       "  <thead>\n",
       "    <tr style=\"text-align: right;\">\n",
       "      <th></th>\n",
       "      <th>Rating</th>\n",
       "      <th>Review Text</th>\n",
       "      <th>Review Date</th>\n",
       "    </tr>\n",
       "  </thead>\n",
       "  <tbody>\n",
       "    <tr>\n",
       "      <th>0</th>\n",
       "      <td>5 stars</td>\n",
       "      <td>A great car sharing with many types of cars</td>\n",
       "      <td>a month ago</td>\n",
       "    </tr>\n",
       "    <tr>\n",
       "      <th>1</th>\n",
       "      <td>5 stars</td>\n",
       "      <td>GetGo always there when I need it. Very conven...</td>\n",
       "      <td>a month ago</td>\n",
       "    </tr>\n",
       "    <tr>\n",
       "      <th>2</th>\n",
       "      <td>5 stars</td>\n",
       "      <td>One of the best Car-Sharing company that I hav...</td>\n",
       "      <td>2 months ago</td>\n",
       "    </tr>\n",
       "    <tr>\n",
       "      <th>3</th>\n",
       "      <td>5 stars</td>\n",
       "      <td>Very convenient and easy rental with Getgo car...</td>\n",
       "      <td>a month ago</td>\n",
       "    </tr>\n",
       "    <tr>\n",
       "      <th>4</th>\n",
       "      <td>1 star</td>\n",
       "      <td>As a frequent GetGo customer</td>\n",
       "      <td>a month ago</td>\n",
       "    </tr>\n",
       "    <tr>\n",
       "      <th>...</th>\n",
       "      <td>...</td>\n",
       "      <td>...</td>\n",
       "      <td>...</td>\n",
       "    </tr>\n",
       "    <tr>\n",
       "      <th>945</th>\n",
       "      <td>5 stars</td>\n",
       "      <td>Plenty of cars to choose from nearby my area. ...</td>\n",
       "      <td>a month ago</td>\n",
       "    </tr>\n",
       "    <tr>\n",
       "      <th>946</th>\n",
       "      <td>5 stars</td>\n",
       "      <td>Convenience</td>\n",
       "      <td>a month ago</td>\n",
       "    </tr>\n",
       "    <tr>\n",
       "      <th>947</th>\n",
       "      <td>5 stars</td>\n",
       "      <td>I like the convenience of having at least one ...</td>\n",
       "      <td>2 years ago</td>\n",
       "    </tr>\n",
       "    <tr>\n",
       "      <th>948</th>\n",
       "      <td>5 stars</td>\n",
       "      <td>Renting is simple</td>\n",
       "      <td>2 months ago</td>\n",
       "    </tr>\n",
       "    <tr>\n",
       "      <th>949</th>\n",
       "      <td>3 stars</td>\n",
       "      <td>The interior of the car should be cleaned more...</td>\n",
       "      <td>2 months ago</td>\n",
       "    </tr>\n",
       "  </tbody>\n",
       "</table>\n",
       "<p>950 rows × 3 columns</p>\n",
       "</div>"
      ],
      "text/plain": [
       "      Rating                                        Review Text   Review Date\n",
       "0    5 stars        A great car sharing with many types of cars   a month ago\n",
       "1    5 stars  GetGo always there when I need it. Very conven...   a month ago\n",
       "2    5 stars  One of the best Car-Sharing company that I hav...  2 months ago\n",
       "3    5 stars  Very convenient and easy rental with Getgo car...   a month ago\n",
       "4     1 star                       As a frequent GetGo customer   a month ago\n",
       "..       ...                                                ...           ...\n",
       "945  5 stars  Plenty of cars to choose from nearby my area. ...   a month ago\n",
       "946  5 stars                                        Convenience   a month ago\n",
       "947  5 stars  I like the convenience of having at least one ...   2 years ago\n",
       "948  5 stars                                  Renting is simple  2 months ago\n",
       "949  3 stars  The interior of the car should be cleaned more...  2 months ago\n",
       "\n",
       "[950 rows x 3 columns]"
      ]
     },
     "metadata": {},
     "output_type": "display_data"
    }
   ],
   "source": [
    "display(reviews)"
   ]
  },
  {
   "cell_type": "code",
   "execution_count": 4,
   "metadata": {},
   "outputs": [],
   "source": [
    "reviews['Rating'] = reviews['Rating'].str[0]\n",
    "\n",
    "# Convert 'Rating' column to numeric\n",
    "reviews['Rating'] = pd.to_numeric(reviews['Rating'])\n",
    "\n",
    "# Filter reviews with rating 4 stars or above\n",
    "reviews_1star = reviews[reviews['Rating'] >= 4.0]\n"
   ]
  },
  {
   "cell_type": "code",
   "execution_count": 5,
   "metadata": {},
   "outputs": [
    {
     "data": {
      "text/plain": [
       "Index(['Rating', 'Review Text', 'Review Date'], dtype='object')"
      ]
     },
     "execution_count": 5,
     "metadata": {},
     "output_type": "execute_result"
    }
   ],
   "source": [
    "reviews.columns"
   ]
  },
  {
   "cell_type": "code",
   "execution_count": 6,
   "metadata": {},
   "outputs": [
    {
     "data": {
      "text/html": [
       "<div>\n",
       "<style scoped>\n",
       "    .dataframe tbody tr th:only-of-type {\n",
       "        vertical-align: middle;\n",
       "    }\n",
       "\n",
       "    .dataframe tbody tr th {\n",
       "        vertical-align: top;\n",
       "    }\n",
       "\n",
       "    .dataframe thead th {\n",
       "        text-align: right;\n",
       "    }\n",
       "</style>\n",
       "<table border=\"1\" class=\"dataframe\">\n",
       "  <thead>\n",
       "    <tr style=\"text-align: right;\">\n",
       "      <th></th>\n",
       "      <th>Rating</th>\n",
       "      <th>Review Text</th>\n",
       "      <th>Review Date</th>\n",
       "    </tr>\n",
       "  </thead>\n",
       "  <tbody>\n",
       "    <tr>\n",
       "      <th>0</th>\n",
       "      <td>5</td>\n",
       "      <td>A great car sharing with many types of cars</td>\n",
       "      <td>a month ago</td>\n",
       "    </tr>\n",
       "    <tr>\n",
       "      <th>1</th>\n",
       "      <td>5</td>\n",
       "      <td>GetGo always there when I need it. Very conven...</td>\n",
       "      <td>a month ago</td>\n",
       "    </tr>\n",
       "    <tr>\n",
       "      <th>2</th>\n",
       "      <td>5</td>\n",
       "      <td>One of the best Car-Sharing company that I hav...</td>\n",
       "      <td>2 months ago</td>\n",
       "    </tr>\n",
       "    <tr>\n",
       "      <th>3</th>\n",
       "      <td>5</td>\n",
       "      <td>Very convenient and easy rental with Getgo car...</td>\n",
       "      <td>a month ago</td>\n",
       "    </tr>\n",
       "    <tr>\n",
       "      <th>5</th>\n",
       "      <td>4</td>\n",
       "      <td>I was thrilled to drive an EV Hyundai Kona nea...</td>\n",
       "      <td>a month ago</td>\n",
       "    </tr>\n",
       "    <tr>\n",
       "      <th>...</th>\n",
       "      <td>...</td>\n",
       "      <td>...</td>\n",
       "      <td>...</td>\n",
       "    </tr>\n",
       "    <tr>\n",
       "      <th>943</th>\n",
       "      <td>5</td>\n",
       "      <td>good app for car sharing. responsive support t...</td>\n",
       "      <td>a month ago</td>\n",
       "    </tr>\n",
       "    <tr>\n",
       "      <th>945</th>\n",
       "      <td>5</td>\n",
       "      <td>Plenty of cars to choose from nearby my area. ...</td>\n",
       "      <td>a month ago</td>\n",
       "    </tr>\n",
       "    <tr>\n",
       "      <th>946</th>\n",
       "      <td>5</td>\n",
       "      <td>Convenience</td>\n",
       "      <td>a month ago</td>\n",
       "    </tr>\n",
       "    <tr>\n",
       "      <th>947</th>\n",
       "      <td>5</td>\n",
       "      <td>I like the convenience of having at least one ...</td>\n",
       "      <td>2 years ago</td>\n",
       "    </tr>\n",
       "    <tr>\n",
       "      <th>948</th>\n",
       "      <td>5</td>\n",
       "      <td>Renting is simple</td>\n",
       "      <td>2 months ago</td>\n",
       "    </tr>\n",
       "  </tbody>\n",
       "</table>\n",
       "<p>840 rows × 3 columns</p>\n",
       "</div>"
      ],
      "text/plain": [
       "     Rating                                        Review Text   Review Date\n",
       "0         5        A great car sharing with many types of cars   a month ago\n",
       "1         5  GetGo always there when I need it. Very conven...   a month ago\n",
       "2         5  One of the best Car-Sharing company that I hav...  2 months ago\n",
       "3         5  Very convenient and easy rental with Getgo car...   a month ago\n",
       "5         4  I was thrilled to drive an EV Hyundai Kona nea...   a month ago\n",
       "..      ...                                                ...           ...\n",
       "943       5  good app for car sharing. responsive support t...   a month ago\n",
       "945       5  Plenty of cars to choose from nearby my area. ...   a month ago\n",
       "946       5                                        Convenience   a month ago\n",
       "947       5  I like the convenience of having at least one ...   2 years ago\n",
       "948       5                                  Renting is simple  2 months ago\n",
       "\n",
       "[840 rows x 3 columns]"
      ]
     },
     "metadata": {},
     "output_type": "display_data"
    }
   ],
   "source": [
    "#reviewRating is omitted\n",
    "# Print out the first rows of papers\n",
    "display(reviews_1star)"
   ]
  },
  {
   "cell_type": "code",
   "execution_count": 7,
   "metadata": {},
   "outputs": [
    {
     "data": {
      "text/html": [
       "<div>\n",
       "<style scoped>\n",
       "    .dataframe tbody tr th:only-of-type {\n",
       "        vertical-align: middle;\n",
       "    }\n",
       "\n",
       "    .dataframe tbody tr th {\n",
       "        vertical-align: top;\n",
       "    }\n",
       "\n",
       "    .dataframe thead th {\n",
       "        text-align: right;\n",
       "    }\n",
       "</style>\n",
       "<table border=\"1\" class=\"dataframe\">\n",
       "  <thead>\n",
       "    <tr style=\"text-align: right;\">\n",
       "      <th></th>\n",
       "      <th>Rating</th>\n",
       "      <th>Review Text</th>\n",
       "      <th>Review Date</th>\n",
       "    </tr>\n",
       "  </thead>\n",
       "  <tbody>\n",
       "    <tr>\n",
       "      <th>0</th>\n",
       "      <td>5</td>\n",
       "      <td>A great car sharing with many types of cars</td>\n",
       "      <td>a month ago</td>\n",
       "    </tr>\n",
       "    <tr>\n",
       "      <th>1</th>\n",
       "      <td>5</td>\n",
       "      <td>GetGo always there when I need it. Very conven...</td>\n",
       "      <td>a month ago</td>\n",
       "    </tr>\n",
       "    <tr>\n",
       "      <th>2</th>\n",
       "      <td>5</td>\n",
       "      <td>One of the best Car-Sharing company that I hav...</td>\n",
       "      <td>2 months ago</td>\n",
       "    </tr>\n",
       "    <tr>\n",
       "      <th>3</th>\n",
       "      <td>5</td>\n",
       "      <td>Very convenient and easy rental with Getgo car...</td>\n",
       "      <td>a month ago</td>\n",
       "    </tr>\n",
       "    <tr>\n",
       "      <th>5</th>\n",
       "      <td>4</td>\n",
       "      <td>I was thrilled to drive an EV Hyundai Kona nea...</td>\n",
       "      <td>a month ago</td>\n",
       "    </tr>\n",
       "    <tr>\n",
       "      <th>...</th>\n",
       "      <td>...</td>\n",
       "      <td>...</td>\n",
       "      <td>...</td>\n",
       "    </tr>\n",
       "    <tr>\n",
       "      <th>943</th>\n",
       "      <td>5</td>\n",
       "      <td>good app for car sharing. responsive support t...</td>\n",
       "      <td>a month ago</td>\n",
       "    </tr>\n",
       "    <tr>\n",
       "      <th>945</th>\n",
       "      <td>5</td>\n",
       "      <td>Plenty of cars to choose from nearby my area. ...</td>\n",
       "      <td>a month ago</td>\n",
       "    </tr>\n",
       "    <tr>\n",
       "      <th>946</th>\n",
       "      <td>5</td>\n",
       "      <td>Convenience</td>\n",
       "      <td>a month ago</td>\n",
       "    </tr>\n",
       "    <tr>\n",
       "      <th>947</th>\n",
       "      <td>5</td>\n",
       "      <td>I like the convenience of having at least one ...</td>\n",
       "      <td>2 years ago</td>\n",
       "    </tr>\n",
       "    <tr>\n",
       "      <th>948</th>\n",
       "      <td>5</td>\n",
       "      <td>Renting is simple</td>\n",
       "      <td>2 months ago</td>\n",
       "    </tr>\n",
       "  </tbody>\n",
       "</table>\n",
       "<p>840 rows × 3 columns</p>\n",
       "</div>"
      ],
      "text/plain": [
       "     Rating                                        Review Text   Review Date\n",
       "0         5        A great car sharing with many types of cars   a month ago\n",
       "1         5  GetGo always there when I need it. Very conven...   a month ago\n",
       "2         5  One of the best Car-Sharing company that I hav...  2 months ago\n",
       "3         5  Very convenient and easy rental with Getgo car...   a month ago\n",
       "5         4  I was thrilled to drive an EV Hyundai Kona nea...   a month ago\n",
       "..      ...                                                ...           ...\n",
       "943       5  good app for car sharing. responsive support t...   a month ago\n",
       "945       5  Plenty of cars to choose from nearby my area. ...   a month ago\n",
       "946       5                                        Convenience   a month ago\n",
       "947       5  I like the convenience of having at least one ...   2 years ago\n",
       "948       5                                  Renting is simple  2 months ago\n",
       "\n",
       "[840 rows x 3 columns]"
      ]
     },
     "metadata": {},
     "output_type": "display_data"
    }
   ],
   "source": [
    "reviews_cleaned = reviews_1star.dropna()\n",
    "display(reviews_cleaned)"
   ]
  },
  {
   "cell_type": "code",
   "execution_count": 8,
   "metadata": {},
   "outputs": [
    {
     "data": {
      "image/png": "[encoded data removed]",
      "text/plain": [
       "<Figure size 1080x667.491 with 1 Axes>"
      ]
     },
     "metadata": {
      "needs_background": "light"
     },
     "output_type": "display_data"
    }
   ],
   "source": [
    "# Load the library with the CountVectorizer method\n",
    "from sklearn.feature_extraction.text import CountVectorizer\n",
    "import numpy as np\n",
    "\n",
    "import matplotlib.pyplot as plt\n",
    "import seaborn as sns\n",
    "sns.set_style('whitegrid')\n",
    "%matplotlib inline\n",
    "\n",
    "import warnings\n",
    "warnings.simplefilter(action=\"ignore\", category=FutureWarning)\n",
    "\n",
    "# Helper function\n",
    "def plot_10_most_common_words(count_data, count_vectorizer):\n",
    "    import matplotlib.pyplot as plt\n",
    "    words = count_vectorizer.get_feature_names_out()\n",
    "    total_counts = np.zeros(len(words))\n",
    "    for t in count_data:\n",
    "        total_counts+=t.toarray()[0]\n",
    "    \n",
    "    count_dict = (zip(words, total_counts))\n",
    "    count_dict = sorted(count_dict, key=lambda x:x[1], reverse=True)[0:10]\n",
    "    words = [w[0] for w in count_dict]\n",
    "    counts = [w[1] for w in count_dict]\n",
    "    x_pos = np.arange(len(words)) \n",
    "    \n",
    "    plt.figure(2, figsize=(15, 15/1.6180))\n",
    "    plt.subplot(title='10 most common words')\n",
    "    sns.set_context(\"notebook\", font_scale=1.25, rc={\"lines.linewidth\": 2.5})\n",
    "    sns.barplot(x_pos, palette='husl')\n",
    "    plt.xticks(x_pos, words, rotation=90) \n",
    "    plt.xlabel('words')\n",
    "    plt.ylabel('counts')\n",
    "    plt.show()\n",
    "\n",
    "# Initialise the count vectorizer with the English stop words\n",
    "count_vectorizer = CountVectorizer(stop_words=['getgo', 'like','stars','people','experience','let','english','however','then','stuff','only','or','very','than','also','singapore','could','would','an','asked','one','enough','u','just','has','on','were','hobby','thing','that','here','then','when','their','there','need','store','products','cars','all','rc','models','it','car','model','product','with','is','as','was','what','be','other','have','this','a','in','no','too','you','the','my', 'they', 'if', 'at', 'me', 'your', 'of', 'are', 'for', 'can', 'shop', 'not', 'i', 'get', 'but', 'to', 'and', 'from', 'tamiya', 'item', 'place', 'paint', 'really', 'quite', 'come', 'got', 'will', 'staff', 'even', 'still', 'play', 'tell', 'got', 'absolutely'])\n",
    "\n",
    "# Fit and transform the processed titles\n",
    "count_data = count_vectorizer.fit_transform(reviews_cleaned['Review Text'])\n",
    "\n",
    "# Visualise the 10 most common words\n",
    "plot_10_most_common_words(count_data, count_vectorizer)"
   ]
  },
  {
   "cell_type": "code",
   "execution_count": 9,
   "metadata": {},
   "outputs": [
    {
     "data": {
      "text/plain": [
       "0          a great car sharing with many types of cars\n",
       "1    getgo always there when i need it very conveni...\n",
       "2    one of the best car-sharing company that i hav...\n",
       "3    very convenient and easy rental with getgo car...\n",
       "5    i was thrilled to drive an ev hyundai kona nea...\n",
       "Name: reviews_cleaned_text_processed, dtype: object"
      ]
     },
     "execution_count": 9,
     "metadata": {},
     "output_type": "execute_result"
    }
   ],
   "source": [
    "# Load the regular expression library\n",
    "import re\n",
    "\n",
    "# Remove punctuation\n",
    "reviews_cleaned['reviews_cleaned_text_processed'] = \\\n",
    "reviews_cleaned['Review Text'].map(lambda x: re.sub('[,\\.!?]', '', x))\n",
    "# Convert the titles to lowercase\n",
    "reviews_cleaned['reviews_cleaned_text_processed'] = \\\n",
    "reviews_cleaned['reviews_cleaned_text_processed'].map(lambda x: x.lower())\n",
    "# Print out the first rows of papers\n",
    "reviews_cleaned['reviews_cleaned_text_processed'].head()"
   ]
  },
  {
   "cell_type": "code",
   "execution_count": 10,
   "metadata": {},
   "outputs": [
    {
     "data": {
      "image/png": "[encoded data removed]",
      "text/plain": [
       "<PIL.Image.Image image mode=RGB size=400x200 at 0x2D4811297F0>"
      ]
     },
     "execution_count": 10,
     "metadata": {},
     "output_type": "execute_result"
    }
   ],
   "source": [
    "# Import the wordcloud library\n",
    "from wordcloud import WordCloud\n",
    "\n",
    "# Join the different processed titles together.\n",
    "long_string = ','.join(list(reviews_cleaned['reviews_cleaned_text_processed'].values))\n",
    "# Create a WordCloud object\n",
    "wordcloud = WordCloud(stopwords=['getgo', 'great', 'good', 'recommend','staffs','parts','kits','like','stars','people','experience','let','english', 'however','then','stuff','only','or','very','than','also','singapore','could','would','an','asked','one','enough','u','just','has','on','were','hobby','thing','that','here','then','when','their','there','need','store','products','cars','all','rc','models','it','car','model','product','with','is','as','was','what','be','other','have','this','a','in','no','too','you','the','my', 'they', 'if', 'at', 'me', 'your', 'of', 'are', 'for', 'can', 'shop', 'not', 'i', 'get', 'but', 'to', 'and', 'from', 'tamiya', 'item', 'place', 'paint', 'really', 'quite', 'come', 'got', 'will', 'staff', 'even', 'still', 'play', 'tell', 'got', 'absolutely'],background_color=\"white\", max_words=5000, contour_width=3, contour_color='steelblue')\n",
    "# Generate a word cloud\n",
    "wordcloud.generate(long_string)\n",
    "# Visualize the word cloud\n",
    "wordcloud.to_image()"
   ]
  },
  {
   "cell_type": "code",
   "execution_count": 11,
   "metadata": {},
   "outputs": [
    {
     "name": "stderr",
     "output_type": "stream",
     "text": [
      "[nltk_data] Downloading package stopwords to\n",
      "[nltk_data]     C:\\Users\\alext\\AppData\\Roaming\\nltk_data...\n",
      "[nltk_data]   Package stopwords is already up-to-date!\n"
     ]
    },
    {
     "name": "stdout",
     "output_type": "stream",
     "text": [
      "['great', 'sharing', 'many', 'types']\n"
     ]
    }
   ],
   "source": [
    "import gensim\n",
    "from gensim.utils import simple_preprocess\n",
    "import nltk\n",
    "nltk.download('stopwords')\n",
    "from nltk.corpus import stopwords\n",
    "stop_words = stopwords.words('english')\n",
    "stop_words.extend(['like','stars','people','experience','let','english', 'however','then','stuff','only','or','very','than','also','singapore','could','would','an','asked','one','enough','u','just','has','on','were','hobby','thing','that','here','then','when','their','there','need','store','products','cars','all','rc','models','it','car','model','product','with','is','as','was','what','be','other','have','this','a','in','no','too','you','the','my', 'they', 'if', 'at', 'me', 'your', 'of', 'are', 'for', 'can', 'shop', 'not', 'i', 'get', 'but', 'to', 'and', 'from', 'tamiya', 'item', 'place', 'paint', 'really', 'quite', 'come', 'got', 'will', 'staff', 'even', 'still', 'play', 'tell', 'got', 'absolutely'])\n",
    "def sent_to_words(sentences):\n",
    "    for sentence in sentences:\n",
    "        # deacc=True removes punctuations\n",
    "        yield(gensim.utils.simple_preprocess(str(sentence), deacc=True))\n",
    "def remove_stopwords(texts):\n",
    "    return [[word for word in simple_preprocess(str(doc)) \n",
    "             if word not in stop_words] for doc in texts]\n",
    "data = reviews_cleaned.reviews_cleaned_text_processed.values.tolist()\n",
    "data_words = list(sent_to_words(data))\n",
    "# remove stop words\n",
    "data_words = remove_stopwords(data_words)\n",
    "print(data_words[:1][0][:30])"
   ]
  },
  {
   "cell_type": "code",
   "execution_count": 12,
   "metadata": {},
   "outputs": [
    {
     "name": "stdout",
     "output_type": "stream",
     "text": [
      "[(0, 1), (1, 1), (2, 1), (3, 1)]\n"
     ]
    }
   ],
   "source": [
    "import gensim.corpora as corpora\n",
    "# Create Dictionary\n",
    "id2word = corpora.Dictionary(data_words)\n",
    "# Create Corpus\n",
    "texts = data_words\n",
    "# Term Document Frequency\n",
    "corpus = [id2word.doc2bow(text) for text in texts]\n",
    "# View\n",
    "print(corpus[:1][0][:30])"
   ]
  },
  {
   "cell_type": "code",
   "execution_count": 13,
   "metadata": {},
   "outputs": [
    {
     "name": "stdout",
     "output_type": "stream",
     "text": [
      "[(0,\n",
      "  '0.044*\"getgo\" + 0.032*\"convenient\" + 0.015*\"easy\" + 0.015*\"use\" + '\n",
      "  '0.014*\"good\" + 0.014*\"using\" + 0.013*\"great\" + 0.011*\"service\" + '\n",
      "  '0.009*\"app\" + 0.008*\"sharing\"'),\n",
      " (1,\n",
      "  '0.050*\"getgo\" + 0.023*\"app\" + 0.021*\"easy\" + 0.019*\"service\" + 0.017*\"use\" '\n",
      "  '+ 0.017*\"good\" + 0.012*\"sharing\" + 0.012*\"using\" + 0.010*\"customer\" + '\n",
      "  '0.010*\"convenient\"'),\n",
      " (2,\n",
      "  '0.023*\"getgo\" + 0.016*\"sharing\" + 0.016*\"good\" + 0.015*\"easy\" + '\n",
      "  '0.014*\"service\" + 0.012*\"far\" + 0.011*\"app\" + 0.011*\"clean\" + '\n",
      "  '0.010*\"available\" + 0.009*\"drive\"')]\n"
     ]
    }
   ],
   "source": [
    "from pprint import pprint\n",
    "# number of topics\n",
    "num_topics = 3\n",
    "# Build LDA model\n",
    "lda_model = gensim.models.LdaMulticore(corpus=corpus,\n",
    "                                       id2word=id2word,\n",
    "                                       num_topics=num_topics)\n",
    "# Print the Keyword in the 10 topics\n",
    "pprint(lda_model.print_topics())\n",
    "doc_lda = lda_model[corpus]"
   ]
  },
  {
   "cell_type": "code",
   "execution_count": 14,
   "metadata": {
    "scrolled": false
   },
   "outputs": [
    {
     "data": {
      "text/html": [
       "\n",
       "<link rel=\"stylesheet\" type=\"text/css\" href=\"https://cdn.jsdelivr.net/gh/bmabey/pyLDAvis@3.3.1/pyLDAvis/js/ldavis.v1.0.0.css\">\n",
       "\n",
       "\n",
       "<div id=\"ldavis_el1810031120398426405053611509\"></div>\n",
       "<script type=\"text/javascript\">\n",
       "\n",
       "var ldavis_el1810031120398426405053611509_data = {\"mdsDat\": {\"x\": [-0.014721537413106021, -0.03417761311062652, 0.04889915052373254], \"y\": [-0.038584899459462814, 0.0295485493198668, 0.009036350139596023], \"topics\": [1, 2, 3], \"cluster\": [1, 1, 1], \"Freq\": [47.575137268850035, 34.603640000557974, 17.82122273059199]}, \"tinfo\": {\"Term\": [\"convenient\", \"clean\", \"sharing\", \"drive\", \"far\", \"condition\", \"available\", \"check\", \"restart\", \"biggest\", \"features\", \"cant\", \"support\", \"step\", \"point\", \"helpful\", \"promo\", \"simple\", \"app\", \"times\", \"rental\", \"getgo\", \"service\", \"easy\", \"use\", \"good\", \"customer\", \"sharing\", \"close\", \"grace\", \"park\", \"husband\", \"hence\", \"function\", \"brings\", \"worry\", \"convenient\", \"lot\", \"located\", \"carsharing\", \"conveniently\", \"different\", \"vehicles\", \"errands\", \"getgo\", \"using\", \"great\", \"use\", \"easy\", \"good\", \"shd\", \"luxury\", \"open\", \"pets\", \"honestly\", \"cleaniness\", \"registered\", \"collection\", \"decent\", \"clean\", \"used\", \"drive\", \"condition\", \"sharing\", \"far\", \"available\", \"good\", \"getgo\", \"easy\", \"service\", \"app\"], \"Freq\": [147.0, 44.0, 100.0, 38.0, 70.0, 30.0, 62.0, 4.412754775381968, 3.6370474642047244, 2.8772792851998523, 2.8699446119252463, 2.861106251462663, 24.231868175663767, 3.546835588988656, 8.34329520594698, 13.171161685634798, 9.081396423280411, 9.519653587046392, 93.36354022872295, 27.427073904634298, 37.89821410785943, 204.1602251692763, 78.04605940047308, 87.2917914647089, 71.87055909927706, 69.52050041845074, 43.19203361577999, 50.82854594437696, 2.825450257990888, 2.7738762838322497, 4.015075329596761, 1.9851940610328163, 1.9804578821899435, 1.967778400489461, 1.9641744864850879, 4.556618983780931, 95.67352210490493, 7.981166463850265, 11.908422083225428, 23.400983130769337, 12.168152365130977, 14.520860852527617, 20.324658126828936, 14.240993042423334, 130.40479208970822, 41.460378723097904, 39.33337778262914, 44.19659503038082, 45.13859749844124, 42.143357244291494, 1.6565492980823187, 1.5911262968759312, 1.5421911910481767, 1.5306517491289597, 1.5266102036038847, 1.951533774556991, 0.9682923555358525, 1.9220833502547587, 3.4610302695782447, 16.976629250654774, 8.244668039495018, 13.777075312195935, 11.331837285330945, 25.288731268937898, 18.210515777408656, 15.531878541402612, 24.797754390372194, 35.98845048892752, 23.415457035120884, 21.372490729308733, 17.47185633905625], \"Total\": [147.0, 44.0, 100.0, 38.0, 70.0, 30.0, 62.0, 5.1631250450312205, 4.3011299297624825, 3.4328489584452986, 3.430874601187429, 3.4312563806488425, 29.20657469348596, 4.299930213879487, 10.180277976527199, 16.37501564002308, 11.168158747192598, 11.957197670140987, 139.04149600364892, 38.00826474996919, 54.32265810063237, 370.55346774791207, 131.2347474914109, 155.84584599827102, 126.9178125928933, 136.46161205311444, 69.04557701587241, 100.9646697849329, 3.3817495545816176, 3.3804604094455577, 5.062135188766481, 2.527878716043167, 2.527524978194804, 2.527142977433517, 2.5263332411950836, 5.87885714845706, 147.98920337537874, 11.056213644467931, 16.961307770607938, 35.773632338779585, 17.689535407546504, 22.04005805366521, 32.946528733663044, 21.8960686754012, 370.55346774791207, 96.39503912993975, 93.04479074735941, 126.9178125928933, 155.84584599827102, 136.46161205311444, 2.287831344312939, 2.301225200814227, 2.3106570394732033, 2.311846739594741, 2.3119054467188693, 3.0925280062615643, 1.550387905369645, 3.108693336742813, 6.285488517236077, 44.532185204388654, 19.21818619622097, 38.02907341378681, 30.820389952557452, 100.9646697849329, 70.21396840819526, 62.89552979492516, 136.46161205311444, 370.55346774791207, 155.84584599827102, 131.2347474914109, 139.04149600364892], \"Category\": [\"Default\", \"Default\", \"Default\", \"Default\", \"Default\", \"Default\", \"Default\", \"Topic1\", \"Topic1\", \"Topic1\", \"Topic1\", \"Topic1\", \"Topic1\", \"Topic1\", \"Topic1\", \"Topic1\", \"Topic1\", \"Topic1\", \"Topic1\", \"Topic1\", \"Topic1\", \"Topic1\", \"Topic1\", \"Topic1\", \"Topic1\", \"Topic1\", \"Topic1\", \"Topic1\", \"Topic2\", \"Topic2\", \"Topic2\", \"Topic2\", \"Topic2\", \"Topic2\", \"Topic2\", \"Topic2\", \"Topic2\", \"Topic2\", \"Topic2\", \"Topic2\", \"Topic2\", \"Topic2\", \"Topic2\", \"Topic2\", \"Topic2\", \"Topic2\", \"Topic2\", \"Topic2\", \"Topic2\", \"Topic2\", \"Topic3\", \"Topic3\", \"Topic3\", \"Topic3\", \"Topic3\", \"Topic3\", \"Topic3\", \"Topic3\", \"Topic3\", \"Topic3\", \"Topic3\", \"Topic3\", \"Topic3\", \"Topic3\", \"Topic3\", \"Topic3\", \"Topic3\", \"Topic3\", \"Topic3\", \"Topic3\", \"Topic3\"], \"logprob\": [7.0, 6.0, 5.0, 4.0, 3.0, 2.0, 1.0, -6.8395, -7.0328, -7.2671, -7.2697, -7.2727, -5.1363, -7.0579, -6.2025, -5.7459, -6.1177, -6.0706, -3.7875, -5.0124, -4.6891, -3.0051, -3.9667, -3.8547, -4.0491, -4.0823, -4.5583, -4.3955, -6.9669, -6.9854, -6.6155, -7.3199, -7.3223, -7.3287, -7.3305, -6.489, -3.4447, -5.9285, -5.5284, -4.8528, -5.5068, -5.33, -4.9938, -5.3495, -3.135, -4.2809, -4.3335, -4.217, -4.1959, -4.2645, -6.8373, -6.8776, -6.9088, -6.9163, -6.919, -6.6734, -7.3743, -6.6886, -6.1005, -4.5102, -5.2325, -4.719, -4.9144, -4.1117, -4.44, -4.5991, -4.1313, -3.7588, -4.1886, -4.2799, -4.4814], \"loglift\": [7.0, 6.0, 5.0, 4.0, 3.0, 2.0, 1.0, 0.5858, 0.5752, 0.5663, 0.5643, 0.5611, 0.5561, 0.5503, 0.5439, 0.5251, 0.536, 0.5149, 0.3446, 0.4166, 0.3828, 0.1468, 0.2232, 0.1632, 0.1742, 0.0684, 0.2737, 0.0565, 0.8815, 0.8634, 0.8295, 0.8195, 0.8173, 0.811, 0.8095, 0.8064, 0.625, 0.7353, 0.7075, 0.6368, 0.6871, 0.6439, 0.5782, 0.631, 0.0169, 0.2175, 0.2002, 0.0063, -0.1779, -0.1138, 1.4019, 1.3558, 1.3205, 1.3124, 1.3098, 1.2644, 1.2541, 1.244, 1.1281, 0.7604, 0.8785, 0.7094, 0.7242, 0.3404, 0.3752, 0.3262, 0.0195, -0.607, -0.1707, -0.0901, -0.3494]}, \"token.table\": {\"Topic\": [1, 2, 3, 1, 2, 3, 1, 2, 1, 1, 2, 3, 1, 1, 2, 3, 2, 3, 2, 1, 3, 1, 2, 3, 1, 2, 3, 1, 2, 3, 1, 2, 3, 1, 2, 3, 1, 2, 3, 1, 2, 3, 1, 2, 3, 1, 2, 3, 1, 2, 3, 1, 2, 1, 2, 3, 1, 2, 3, 2, 1, 2, 3, 1, 2, 3, 2, 3, 2, 1, 2, 3, 1, 2, 3, 3, 3, 1, 2, 3, 1, 3, 1, 2, 3, 3, 1, 2, 3, 1, 1, 2, 3, 1, 2, 3, 3, 1, 2, 3, 1, 1, 2, 3, 1, 2, 3, 1, 2, 3, 1, 2, 3, 1, 2, 3, 1, 2, 3, 1, 2, 3], \"Freq\": [0.6688650703064887, 0.20137873084496433, 0.12226565801301406, 0.4769814340990034, 0.28618886045940206, 0.25439009818613517, 0.8739096990036721, 0.7916611978924438, 0.8743153140403653, 0.27953549433557884, 0.6429316369718313, 0.05590709886711576, 0.7747246028545126, 0.4715690439087289, 0.1347340125453511, 0.38174636887849484, 0.32336004652997813, 0.6467200930599563, 0.8871147764137588, 0.32167856127223127, 0.6433571225444625, 0.45424473932842924, 0.1946763168550411, 0.3569065809009087, 0.2905617370675974, 0.6486959711276594, 0.06081524729321807, 0.2261223886238169, 0.6783671658714507, 0.11306119431190845, 0.6227770388552916, 0.2172478042518459, 0.15931505645135366, 0.3181932469553634, 0.1590966234776817, 0.4772898704330451, 0.2722315878384093, 0.6805789695960232, 0.0907438626128031, 0.2892523801542883, 0.3681393929236396, 0.3681393929236396, 0.558243945757561, 0.28874686849529013, 0.14758173278648162, 0.22835149423956516, 0.6393841838707824, 0.1370108965437391, 0.4842341313389086, 0.2563592460029516, 0.2563592460029516, 0.8744126057424825, 0.7914075372304951, 0.5505278394500991, 0.3508265643554553, 0.09715197166766454, 0.5129647740989177, 0.30777886445935065, 0.18320170503532776, 0.8874530793549632, 0.46214301364550414, 0.419152965864527, 0.11822263139768711, 0.793892371511755, 0.12213728792488537, 0.06106864396244269, 0.7912879268273068, 0.8650872823706802, 0.7911771982203941, 0.23583087189370833, 0.707492615681125, 0.05895771797342708, 0.18089375479829994, 0.7235750191931998, 0.09044687739914997, 0.8691022500937124, 0.8655546737719118, 0.19754509958942357, 0.7901803983576943, 0.8651092504300667, 0.7858331588239246, 0.09822914485299057, 0.8058624705941237, 0.08954027451045819, 0.08954027451045819, 0.6449998716686189, 0.699523943206263, 0.27612787231826175, 0.036817049642434894, 0.9299881810873099, 0.5943547840110331, 0.24383786010709052, 0.16001859569527815, 0.5051271906166409, 0.24761136794933378, 0.24761136794933378, 0.8741903134475246, 0.8363163573829328, 0.08363163573829327, 0.08363163573829327, 0.9302476554360439, 0.8217327862603758, 0.10271659828254698, 0.06847773218836466, 0.7103718145938742, 0.13155033603590263, 0.15786040324308315, 0.5672962567590895, 0.34668104579722137, 0.08667026144930534, 0.3122042808170851, 0.26017023401423756, 0.41627237442278014, 0.4979509364096671, 0.42533309151659066, 0.07261784489307646, 0.273169901228601, 0.6070442249524468, 0.09105663374286702, 0.1701010884849372, 0.8505054424246861, 0.1701010884849372], \"Term\": [\"app\", \"app\", \"app\", \"available\", \"available\", \"available\", \"biggest\", \"brings\", \"cant\", \"carsharing\", \"carsharing\", \"carsharing\", \"check\", \"clean\", \"clean\", \"clean\", \"cleaniness\", \"cleaniness\", \"close\", \"collection\", \"collection\", \"condition\", \"condition\", \"condition\", \"convenient\", \"convenient\", \"convenient\", \"conveniently\", \"conveniently\", \"conveniently\", \"customer\", \"customer\", \"customer\", \"decent\", \"decent\", \"decent\", \"different\", \"different\", \"different\", \"drive\", \"drive\", \"drive\", \"easy\", \"easy\", \"easy\", \"errands\", \"errands\", \"errands\", \"far\", \"far\", \"far\", \"features\", \"function\", \"getgo\", \"getgo\", \"getgo\", \"good\", \"good\", \"good\", \"grace\", \"great\", \"great\", \"great\", \"helpful\", \"helpful\", \"helpful\", \"hence\", \"honestly\", \"husband\", \"located\", \"located\", \"located\", \"lot\", \"lot\", \"lot\", \"luxury\", \"open\", \"park\", \"park\", \"pets\", \"point\", \"point\", \"promo\", \"promo\", \"promo\", \"registered\", \"rental\", \"rental\", \"rental\", \"restart\", \"service\", \"service\", \"service\", \"sharing\", \"sharing\", \"sharing\", \"shd\", \"simple\", \"simple\", \"simple\", \"step\", \"support\", \"support\", \"support\", \"times\", \"times\", \"times\", \"use\", \"use\", \"use\", \"used\", \"used\", \"used\", \"using\", \"using\", \"using\", \"vehicles\", \"vehicles\", \"vehicles\", \"worry\", \"worry\", \"worry\"]}, \"R\": 7, \"lambda.step\": 0.01, \"plot.opts\": {\"xlab\": \"PC1\", \"ylab\": \"PC2\"}, \"topic.order\": [2, 1, 3]};\n",
       "\n",
       "function LDAvis_load_lib(url, callback){\n",
       "  var s = document.createElement('script');\n",
       "  s.src = url;\n",
       "  s.async = true;\n",
       "  s.onreadystatechange = s.onload = callback;\n",
       "  s.onerror = function(){console.warn(\"failed to load library \" + url);};\n",
       "  document.getElementsByTagName(\"head\")[0].appendChild(s);\n",
       "}\n",
       "\n",
       "if(typeof(LDAvis) !== \"undefined\"){\n",
       "   // already loaded: just create the visualization\n",
       "   !function(LDAvis){\n",
       "       new LDAvis(\"#\" + \"ldavis_el1810031120398426405053611509\", ldavis_el1810031120398426405053611509_data);\n",
       "   }(LDAvis);\n",
       "}else if(typeof define === \"function\" && define.amd){\n",
       "   // require.js is available: use it to load d3/LDAvis\n",
       "   require.config({paths: {d3: \"https://d3js.org/d3.v5\"}});\n",
       "   require([\"d3\"], function(d3){\n",
       "      window.d3 = d3;\n",
       "      LDAvis_load_lib(\"https://cdn.jsdelivr.net/gh/bmabey/pyLDAvis@3.3.1/pyLDAvis/js/ldavis.v3.0.0.js\", function(){\n",
       "        new LDAvis(\"#\" + \"ldavis_el1810031120398426405053611509\", ldavis_el1810031120398426405053611509_data);\n",
       "      });\n",
       "    });\n",
       "}else{\n",
       "    // require.js not available: dynamically load d3 & LDAvis\n",
       "    LDAvis_load_lib(\"https://d3js.org/d3.v5.js\", function(){\n",
       "         LDAvis_load_lib(\"https://cdn.jsdelivr.net/gh/bmabey/pyLDAvis@3.3.1/pyLDAvis/js/ldavis.v3.0.0.js\", function(){\n",
       "                 new LDAvis(\"#\" + \"ldavis_el1810031120398426405053611509\", ldavis_el1810031120398426405053611509_data);\n",
       "            })\n",
       "         });\n",
       "}\n",
       "</script>"
      ],
      "text/plain": [
       "PreparedData(topic_coordinates=              x         y  topics  cluster       Freq\n",
       "topic                                                \n",
       "1     -0.014722 -0.038585       1        1  47.575137\n",
       "0     -0.034178  0.029549       2        1  34.603640\n",
       "2      0.048899  0.009036       3        1  17.821223, topic_info=           Term        Freq       Total Category  logprob  loglift\n",
       "5    convenient  147.000000  147.000000  Default   7.0000   7.0000\n",
       "160       clean   44.000000   44.000000  Default   6.0000   6.0000\n",
       "2       sharing  100.000000  100.000000  Default   5.0000   5.0000\n",
       "30        drive   38.000000   38.000000  Default   4.0000   4.0000\n",
       "10          far   70.000000   70.000000  Default   3.0000   3.0000\n",
       "..          ...         ...         ...      ...      ...      ...\n",
       "37         good   24.797754  136.461612   Topic3  -4.1313   0.0195\n",
       "6         getgo   35.988450  370.553468   Topic3  -3.7588  -0.6070\n",
       "14         easy   23.415457  155.845846   Topic3  -4.1886  -0.1707\n",
       "64      service   21.372491  131.234747   Topic3  -4.2799  -0.0901\n",
       "62          app   17.471856  139.041496   Topic3  -4.4814  -0.3494\n",
       "\n",
       "[71 rows x 6 columns], token_table=      Topic      Freq       Term\n",
       "term                            \n",
       "62        1  0.668865        app\n",
       "62        2  0.201379        app\n",
       "62        3  0.122266        app\n",
       "118       1  0.476981  available\n",
       "118       2  0.286189  available\n",
       "...     ...       ...        ...\n",
       "214       2  0.607044   vehicles\n",
       "214       3  0.091057   vehicles\n",
       "92        1  0.170101      worry\n",
       "92        2  0.850505      worry\n",
       "92        3  0.170101      worry\n",
       "\n",
       "[122 rows x 3 columns], R=7, lambda_step=0.01, plot_opts={'xlab': 'PC1', 'ylab': 'PC2'}, topic_order=[2, 1, 3])"
      ]
     },
     "execution_count": 14,
     "metadata": {},
     "output_type": "execute_result"
    }
   ],
   "source": [
    "import pickle \n",
    "import pyLDAvis\n",
    "import pyLDAvis.gensim_models\n",
    "pyLDAvis.enable_notebook()\n",
    "# Visualize the topics\n",
    "pyLDAvis.enable_notebook()\n",
    "LDAvis_data_filepath = os.path.join('./results/ldavis_prepared_'+str(num_topics))\n",
    "# # this is a bit time consuming - make the if statement True\n",
    "# # if you want to execute visualization prep yourself\n",
    "if 1 == 1:\n",
    "    LDAvis_prepared = pyLDAvis.gensim_models.prepare(lda_model, corpus, id2word, R=7)\n",
    "    with open(LDAvis_data_filepath, 'wb') as f:\n",
    "        pickle.dump(LDAvis_prepared, f)\n",
    "# load the pre-prepared pyLDAvis data from disk\n",
    "with open(LDAvis_data_filepath, 'rb') as f:\n",
    "    LDAvis_prepared = pickle.load(f)\n",
    "pyLDAvis.save_html(LDAvis_prepared, './results/ldavis_prepared_'+ str(num_topics) +'.html')\n",
    "LDAvis_prepared"
   ]
  },
  {
   "cell_type": "code",
   "execution_count": null,
   "metadata": {},
   "outputs": [],
   "source": []
  },
  {
   "cell_type": "code",
   "execution_count": null,
   "metadata": {},
   "outputs": [],
   "source": []
  }
 ],
 "metadata": {
  "kernelspec": {
   "display_name": "Python 3",
   "language": "python",
   "name": "python3"
  },
  "language_info": {
   "codemirror_mode": {
    "name": "ipython",
    "version": 3
   },
   "file_extension": ".py",
   "mimetype": "text/x-python",
   "name": "python",
   "nbconvert_exporter": "python",
   "pygments_lexer": "ipython3",
   "version": "3.8.3"
  },
  "toc": {
   "base_numbering": 1,
   "nav_menu": {},
   "number_sections": true,
   "sideBar": true,
   "skip_h1_title": false,
   "title_cell": "Table of Contents",
   "title_sidebar": "Contents",
   "toc_cell": false,
   "toc_position": {},
   "toc_section_display": true,
   "toc_window_display": false
  },
  "varInspector": {
   "cols": {
    "lenName": 16,
    "lenType": 16,
    "lenVar": 40
   },
   "kernels_config": {
    "python": {
     "delete_cmd_postfix": "",
     "delete_cmd_prefix": "del ",
     "library": "var_list.py",
     "varRefreshCmd": "print(var_dic_list())"
    },
    "r": {
     "delete_cmd_postfix": ") ",
     "delete_cmd_prefix": "rm(",
     "library": "var_list.r",
     "varRefreshCmd": "cat(var_dic_list()) "
    }
   },
   "types_to_exclude": [
    "module",
    "function",
    "builtin_function_or_method",
    "instance",
    "_Feature"
   ],
   "window_display": false
  }
 },
 "nbformat": 4,
 "nbformat_minor": 2
}
