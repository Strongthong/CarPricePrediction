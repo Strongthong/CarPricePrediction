{
 "cells": [
  {
   "cell_type": "markdown",
   "metadata": {},
   "source": [
    "<table class=\"table table-bordered\">\n",
    "    <tr>\n",
    "<!--         <th style=\"text-align:center; width:30%\"><img src='https://drive.google.com/uc?export=view&id=1iEILhi-REsl4vk6cfd7yhNiTrAB-RVat' style=\"width: 100px; height: 80px; \"></th> -->\n",
    "        <th style=\"text-align:center;\"><h3>Final Year Proect</h3><h3>Google Reviews Topic Modelling</h3><h4>LDA</h4></th>\n",
    "    </tr>\n",
    "</table>"
   ]
  },
  {
   "cell_type": "code",
   "execution_count": 2,
   "metadata": {},
   "outputs": [],
   "source": [
    "# import the required libraries\n",
    "import numpy as np\n",
    "import pandas as pd\n",
    "import matplotlib.pyplot as plt\n",
    "import os\n",
    "os.chdir('./')"
   ]
  },
  {
   "cell_type": "markdown",
   "metadata": {},
   "source": [
    "### 1. Reading the data and basic EDA"
   ]
  },
  {
   "cell_type": "code",
   "execution_count": 3,
   "metadata": {
    "scrolled": true
   },
   "outputs": [],
   "source": [
    "# Write your code below\n",
    "\n",
    "# Solution\n",
    "reviews = pd.read_csv (r'C:\\Users\\alext\\OneDrive - Singapore Management University\\Desktop\\SMU General Shit\\Y4S2 (FYP)\\Project_2_SgCarMart Price Prediction\\CarPricePrediction\\Sentiment & Topic Modelling\\getgo_reviews.csv')\n"
   ]
  },
  {
   "cell_type": "code",
   "execution_count": 4,
   "metadata": {},
   "outputs": [
    {
     "data": {
      "text/html": [
       "<div>\n",
       "<style scoped>\n",
       "    .dataframe tbody tr th:only-of-type {\n",
       "        vertical-align: middle;\n",
       "    }\n",
       "\n",
       "    .dataframe tbody tr th {\n",
       "        vertical-align: top;\n",
       "    }\n",
       "\n",
       "    .dataframe thead th {\n",
       "        text-align: right;\n",
       "    }\n",
       "</style>\n",
       "<table border=\"1\" class=\"dataframe\">\n",
       "  <thead>\n",
       "    <tr style=\"text-align: right;\">\n",
       "      <th></th>\n",
       "      <th>Rating</th>\n",
       "      <th>Review Text</th>\n",
       "      <th>Review Date</th>\n",
       "    </tr>\n",
       "  </thead>\n",
       "  <tbody>\n",
       "    <tr>\n",
       "      <th>0</th>\n",
       "      <td>5 stars</td>\n",
       "      <td>A great car sharing with many types of cars</td>\n",
       "      <td>a month ago</td>\n",
       "    </tr>\n",
       "    <tr>\n",
       "      <th>1</th>\n",
       "      <td>5 stars</td>\n",
       "      <td>GetGo always there when I need it. Very conven...</td>\n",
       "      <td>a month ago</td>\n",
       "    </tr>\n",
       "    <tr>\n",
       "      <th>2</th>\n",
       "      <td>5 stars</td>\n",
       "      <td>One of the best Car-Sharing company that I hav...</td>\n",
       "      <td>2 months ago</td>\n",
       "    </tr>\n",
       "    <tr>\n",
       "      <th>3</th>\n",
       "      <td>5 stars</td>\n",
       "      <td>Very convenient and easy rental with Getgo car...</td>\n",
       "      <td>a month ago</td>\n",
       "    </tr>\n",
       "    <tr>\n",
       "      <th>4</th>\n",
       "      <td>1 star</td>\n",
       "      <td>As a frequent GetGo customer</td>\n",
       "      <td>a month ago</td>\n",
       "    </tr>\n",
       "    <tr>\n",
       "      <th>...</th>\n",
       "      <td>...</td>\n",
       "      <td>...</td>\n",
       "      <td>...</td>\n",
       "    </tr>\n",
       "    <tr>\n",
       "      <th>945</th>\n",
       "      <td>5 stars</td>\n",
       "      <td>Plenty of cars to choose from nearby my area. ...</td>\n",
       "      <td>a month ago</td>\n",
       "    </tr>\n",
       "    <tr>\n",
       "      <th>946</th>\n",
       "      <td>5 stars</td>\n",
       "      <td>Convenience</td>\n",
       "      <td>a month ago</td>\n",
       "    </tr>\n",
       "    <tr>\n",
       "      <th>947</th>\n",
       "      <td>5 stars</td>\n",
       "      <td>I like the convenience of having at least one ...</td>\n",
       "      <td>2 years ago</td>\n",
       "    </tr>\n",
       "    <tr>\n",
       "      <th>948</th>\n",
       "      <td>5 stars</td>\n",
       "      <td>Renting is simple</td>\n",
       "      <td>2 months ago</td>\n",
       "    </tr>\n",
       "    <tr>\n",
       "      <th>949</th>\n",
       "      <td>3 stars</td>\n",
       "      <td>The interior of the car should be cleaned more...</td>\n",
       "      <td>2 months ago</td>\n",
       "    </tr>\n",
       "  </tbody>\n",
       "</table>\n",
       "<p>950 rows × 3 columns</p>\n",
       "</div>"
      ],
      "text/plain": [
       "      Rating                                        Review Text   Review Date\n",
       "0    5 stars        A great car sharing with many types of cars   a month ago\n",
       "1    5 stars  GetGo always there when I need it. Very conven...   a month ago\n",
       "2    5 stars  One of the best Car-Sharing company that I hav...  2 months ago\n",
       "3    5 stars  Very convenient and easy rental with Getgo car...   a month ago\n",
       "4     1 star                       As a frequent GetGo customer   a month ago\n",
       "..       ...                                                ...           ...\n",
       "945  5 stars  Plenty of cars to choose from nearby my area. ...   a month ago\n",
       "946  5 stars                                        Convenience   a month ago\n",
       "947  5 stars  I like the convenience of having at least one ...   2 years ago\n",
       "948  5 stars                                  Renting is simple  2 months ago\n",
       "949  3 stars  The interior of the car should be cleaned more...  2 months ago\n",
       "\n",
       "[950 rows x 3 columns]"
      ]
     },
     "metadata": {},
     "output_type": "display_data"
    }
   ],
   "source": [
    "display(reviews)"
   ]
  },
  {
   "cell_type": "code",
   "execution_count": 5,
   "metadata": {},
   "outputs": [],
   "source": [
    "reviews['Rating'] = reviews['Rating'].str[0]\n",
    "\n",
    "# Convert 'Rating' column to numeric\n",
    "reviews['Rating'] = pd.to_numeric(reviews['Rating'])\n",
    "\n",
    "# Filter reviews with rating 4 stars or above\n",
    "reviews_1star = reviews[reviews['Rating'] >= 4.0]\n"
   ]
  },
  {
   "cell_type": "code",
   "execution_count": 6,
   "metadata": {},
   "outputs": [
    {
     "data": {
      "text/plain": [
       "Index(['Rating', 'Review Text', 'Review Date'], dtype='object')"
      ]
     },
     "execution_count": 6,
     "metadata": {},
     "output_type": "execute_result"
    }
   ],
   "source": [
    "reviews.columns"
   ]
  },
  {
   "cell_type": "code",
   "execution_count": 7,
   "metadata": {},
   "outputs": [
    {
     "data": {
      "text/html": [
       "<div>\n",
       "<style scoped>\n",
       "    .dataframe tbody tr th:only-of-type {\n",
       "        vertical-align: middle;\n",
       "    }\n",
       "\n",
       "    .dataframe tbody tr th {\n",
       "        vertical-align: top;\n",
       "    }\n",
       "\n",
       "    .dataframe thead th {\n",
       "        text-align: right;\n",
       "    }\n",
       "</style>\n",
       "<table border=\"1\" class=\"dataframe\">\n",
       "  <thead>\n",
       "    <tr style=\"text-align: right;\">\n",
       "      <th></th>\n",
       "      <th>Rating</th>\n",
       "      <th>Review Text</th>\n",
       "      <th>Review Date</th>\n",
       "    </tr>\n",
       "  </thead>\n",
       "  <tbody>\n",
       "    <tr>\n",
       "      <th>0</th>\n",
       "      <td>5</td>\n",
       "      <td>A great car sharing with many types of cars</td>\n",
       "      <td>a month ago</td>\n",
       "    </tr>\n",
       "    <tr>\n",
       "      <th>1</th>\n",
       "      <td>5</td>\n",
       "      <td>GetGo always there when I need it. Very conven...</td>\n",
       "      <td>a month ago</td>\n",
       "    </tr>\n",
       "    <tr>\n",
       "      <th>2</th>\n",
       "      <td>5</td>\n",
       "      <td>One of the best Car-Sharing company that I hav...</td>\n",
       "      <td>2 months ago</td>\n",
       "    </tr>\n",
       "    <tr>\n",
       "      <th>3</th>\n",
       "      <td>5</td>\n",
       "      <td>Very convenient and easy rental with Getgo car...</td>\n",
       "      <td>a month ago</td>\n",
       "    </tr>\n",
       "    <tr>\n",
       "      <th>5</th>\n",
       "      <td>4</td>\n",
       "      <td>I was thrilled to drive an EV Hyundai Kona nea...</td>\n",
       "      <td>a month ago</td>\n",
       "    </tr>\n",
       "    <tr>\n",
       "      <th>...</th>\n",
       "      <td>...</td>\n",
       "      <td>...</td>\n",
       "      <td>...</td>\n",
       "    </tr>\n",
       "    <tr>\n",
       "      <th>943</th>\n",
       "      <td>5</td>\n",
       "      <td>good app for car sharing. responsive support t...</td>\n",
       "      <td>a month ago</td>\n",
       "    </tr>\n",
       "    <tr>\n",
       "      <th>945</th>\n",
       "      <td>5</td>\n",
       "      <td>Plenty of cars to choose from nearby my area. ...</td>\n",
       "      <td>a month ago</td>\n",
       "    </tr>\n",
       "    <tr>\n",
       "      <th>946</th>\n",
       "      <td>5</td>\n",
       "      <td>Convenience</td>\n",
       "      <td>a month ago</td>\n",
       "    </tr>\n",
       "    <tr>\n",
       "      <th>947</th>\n",
       "      <td>5</td>\n",
       "      <td>I like the convenience of having at least one ...</td>\n",
       "      <td>2 years ago</td>\n",
       "    </tr>\n",
       "    <tr>\n",
       "      <th>948</th>\n",
       "      <td>5</td>\n",
       "      <td>Renting is simple</td>\n",
       "      <td>2 months ago</td>\n",
       "    </tr>\n",
       "  </tbody>\n",
       "</table>\n",
       "<p>840 rows × 3 columns</p>\n",
       "</div>"
      ],
      "text/plain": [
       "     Rating                                        Review Text   Review Date\n",
       "0         5        A great car sharing with many types of cars   a month ago\n",
       "1         5  GetGo always there when I need it. Very conven...   a month ago\n",
       "2         5  One of the best Car-Sharing company that I hav...  2 months ago\n",
       "3         5  Very convenient and easy rental with Getgo car...   a month ago\n",
       "5         4  I was thrilled to drive an EV Hyundai Kona nea...   a month ago\n",
       "..      ...                                                ...           ...\n",
       "943       5  good app for car sharing. responsive support t...   a month ago\n",
       "945       5  Plenty of cars to choose from nearby my area. ...   a month ago\n",
       "946       5                                        Convenience   a month ago\n",
       "947       5  I like the convenience of having at least one ...   2 years ago\n",
       "948       5                                  Renting is simple  2 months ago\n",
       "\n",
       "[840 rows x 3 columns]"
      ]
     },
     "metadata": {},
     "output_type": "display_data"
    }
   ],
   "source": [
    "#reviewRating is omitted\n",
    "# Print out the first rows of papers\n",
    "display(reviews_1star)"
   ]
  },
  {
   "cell_type": "code",
   "execution_count": 8,
   "metadata": {},
   "outputs": [
    {
     "data": {
      "text/html": [
       "<div>\n",
       "<style scoped>\n",
       "    .dataframe tbody tr th:only-of-type {\n",
       "        vertical-align: middle;\n",
       "    }\n",
       "\n",
       "    .dataframe tbody tr th {\n",
       "        vertical-align: top;\n",
       "    }\n",
       "\n",
       "    .dataframe thead th {\n",
       "        text-align: right;\n",
       "    }\n",
       "</style>\n",
       "<table border=\"1\" class=\"dataframe\">\n",
       "  <thead>\n",
       "    <tr style=\"text-align: right;\">\n",
       "      <th></th>\n",
       "      <th>Rating</th>\n",
       "      <th>Review Text</th>\n",
       "      <th>Review Date</th>\n",
       "    </tr>\n",
       "  </thead>\n",
       "  <tbody>\n",
       "    <tr>\n",
       "      <th>0</th>\n",
       "      <td>5</td>\n",
       "      <td>A great car sharing with many types of cars</td>\n",
       "      <td>a month ago</td>\n",
       "    </tr>\n",
       "    <tr>\n",
       "      <th>1</th>\n",
       "      <td>5</td>\n",
       "      <td>GetGo always there when I need it. Very conven...</td>\n",
       "      <td>a month ago</td>\n",
       "    </tr>\n",
       "    <tr>\n",
       "      <th>2</th>\n",
       "      <td>5</td>\n",
       "      <td>One of the best Car-Sharing company that I hav...</td>\n",
       "      <td>2 months ago</td>\n",
       "    </tr>\n",
       "    <tr>\n",
       "      <th>3</th>\n",
       "      <td>5</td>\n",
       "      <td>Very convenient and easy rental with Getgo car...</td>\n",
       "      <td>a month ago</td>\n",
       "    </tr>\n",
       "    <tr>\n",
       "      <th>5</th>\n",
       "      <td>4</td>\n",
       "      <td>I was thrilled to drive an EV Hyundai Kona nea...</td>\n",
       "      <td>a month ago</td>\n",
       "    </tr>\n",
       "    <tr>\n",
       "      <th>...</th>\n",
       "      <td>...</td>\n",
       "      <td>...</td>\n",
       "      <td>...</td>\n",
       "    </tr>\n",
       "    <tr>\n",
       "      <th>943</th>\n",
       "      <td>5</td>\n",
       "      <td>good app for car sharing. responsive support t...</td>\n",
       "      <td>a month ago</td>\n",
       "    </tr>\n",
       "    <tr>\n",
       "      <th>945</th>\n",
       "      <td>5</td>\n",
       "      <td>Plenty of cars to choose from nearby my area. ...</td>\n",
       "      <td>a month ago</td>\n",
       "    </tr>\n",
       "    <tr>\n",
       "      <th>946</th>\n",
       "      <td>5</td>\n",
       "      <td>Convenience</td>\n",
       "      <td>a month ago</td>\n",
       "    </tr>\n",
       "    <tr>\n",
       "      <th>947</th>\n",
       "      <td>5</td>\n",
       "      <td>I like the convenience of having at least one ...</td>\n",
       "      <td>2 years ago</td>\n",
       "    </tr>\n",
       "    <tr>\n",
       "      <th>948</th>\n",
       "      <td>5</td>\n",
       "      <td>Renting is simple</td>\n",
       "      <td>2 months ago</td>\n",
       "    </tr>\n",
       "  </tbody>\n",
       "</table>\n",
       "<p>840 rows × 3 columns</p>\n",
       "</div>"
      ],
      "text/plain": [
       "     Rating                                        Review Text   Review Date\n",
       "0         5        A great car sharing with many types of cars   a month ago\n",
       "1         5  GetGo always there when I need it. Very conven...   a month ago\n",
       "2         5  One of the best Car-Sharing company that I hav...  2 months ago\n",
       "3         5  Very convenient and easy rental with Getgo car...   a month ago\n",
       "5         4  I was thrilled to drive an EV Hyundai Kona nea...   a month ago\n",
       "..      ...                                                ...           ...\n",
       "943       5  good app for car sharing. responsive support t...   a month ago\n",
       "945       5  Plenty of cars to choose from nearby my area. ...   a month ago\n",
       "946       5                                        Convenience   a month ago\n",
       "947       5  I like the convenience of having at least one ...   2 years ago\n",
       "948       5                                  Renting is simple  2 months ago\n",
       "\n",
       "[840 rows x 3 columns]"
      ]
     },
     "metadata": {},
     "output_type": "display_data"
    }
   ],
   "source": [
    "reviews_cleaned = reviews_1star.dropna()\n",
    "display(reviews_cleaned)"
   ]
  },
  {
   "cell_type": "code",
   "execution_count": 10,
   "metadata": {},
   "outputs": [
    {
     "data": {
      "image/png": "[encoded data removed]",
      "text/plain": [
       "<Figure size 1080x432 with 1 Axes>"
      ]
     },
     "metadata": {
      "needs_background": "light"
     },
     "output_type": "display_data"
    }
   ],
   "source": [
    "# Load the library with the CountVectorizer method\n",
    "from sklearn.feature_extraction.text import CountVectorizer\n",
    "import numpy as np\n",
    "\n",
    "import matplotlib.pyplot as plt\n",
    "import seaborn as sns\n",
    "sns.set_style('whitegrid')\n",
    "%matplotlib inline\n",
    "\n",
    "import warnings\n",
    "warnings.simplefilter(action=\"ignore\", category=FutureWarning)\n",
    "\n",
    "def plot_10_most_common_words(count_data, count_vectorizer):\n",
    "    import matplotlib.pyplot as plt\n",
    "    words = count_vectorizer.get_feature_names_out()\n",
    "    total_counts = np.zeros(len(words))\n",
    "    for t in count_data:\n",
    "        total_counts += t.toarray()[0]\n",
    "    \n",
    "    count_dict = list(zip(words, total_counts))\n",
    "    count_dict = sorted(count_dict, key=lambda x: x[1], reverse=True)[:10]\n",
    "    words = [w[0] for w in count_dict]\n",
    "    counts = [w[1] for w in count_dict]\n",
    "    x_pos = np.arange(len(words)) \n",
    "    \n",
    "    plt.figure(figsize=(15, 6))\n",
    "    sns.barplot(x=words, y=counts, palette='husl')\n",
    "    plt.xticks(rotation=90) \n",
    "    plt.xlabel('Words')\n",
    "    plt.ylabel('Counts')\n",
    "    plt.title('10 most common words')\n",
    "    plt.show()\n",
    "\n",
    "# Initialise the count vectorizer with the English stop words\n",
    "count_vectorizer = CountVectorizer(stop_words=['getgo', 'like','stars','people','experience','let','english','however','then','stuff','only','or','very','than','also','singapore','could','would','an','asked','one','enough','u','just','has','on','were','hobby','thing','that','here','then','when','their','there','need','store','products','cars','all','rc','models','it','car','model','product','with','is','as','was','what','be','other','have','this','a','in','no','too','you','the','my', 'they', 'if', 'at', 'me', 'your', 'of', 'are', 'for', 'can', 'shop', 'not', 'i', 'get', 'but', 'to', 'and', 'from', 'tamiya', 'item', 'place', 'paint', 'really', 'quite', 'come', 'got', 'will', 'staff', 'even', 'still', 'play', 'tell', 'got', 'absolutely'])\n",
    "\n",
    "# Fit and transform the processed titles\n",
    "count_data = count_vectorizer.fit_transform(reviews_cleaned['Review Text'])\n",
    "\n",
    "# Visualise the 10 most common words\n",
    "plot_10_most_common_words(count_data, count_vectorizer)"
   ]
  },
  {
   "cell_type": "code",
   "execution_count": 11,
   "metadata": {},
   "outputs": [
    {
     "data": {
      "text/plain": [
       "0          a great car sharing with many types of cars\n",
       "1    getgo always there when i need it very conveni...\n",
       "2    one of the best car-sharing company that i hav...\n",
       "3    very convenient and easy rental with getgo car...\n",
       "5    i was thrilled to drive an ev hyundai kona nea...\n",
       "Name: reviews_cleaned_text_processed, dtype: object"
      ]
     },
     "execution_count": 11,
     "metadata": {},
     "output_type": "execute_result"
    }
   ],
   "source": [
    "# Load the regular expression library\n",
    "import re\n",
    "\n",
    "# Remove punctuation\n",
    "reviews_cleaned['reviews_cleaned_text_processed'] = \\\n",
    "reviews_cleaned['Review Text'].map(lambda x: re.sub('[,\\.!?]', '', x))\n",
    "# Convert the titles to lowercase\n",
    "reviews_cleaned['reviews_cleaned_text_processed'] = \\\n",
    "reviews_cleaned['reviews_cleaned_text_processed'].map(lambda x: x.lower())\n",
    "# Print out the first rows of papers\n",
    "reviews_cleaned['reviews_cleaned_text_processed'].head()"
   ]
  },
  {
   "cell_type": "code",
   "execution_count": 12,
   "metadata": {},
   "outputs": [
    {
     "data": {
      "image/png": "[encoded data removed]",
      "text/plain": [
       "<PIL.Image.Image image mode=RGB size=400x200 at 0x287343019D0>"
      ]
     },
     "execution_count": 12,
     "metadata": {},
     "output_type": "execute_result"
    }
   ],
   "source": [
    "# Import the wordcloud library\n",
    "from wordcloud import WordCloud\n",
    "\n",
    "# Join the different processed titles together.\n",
    "long_string = ','.join(list(reviews_cleaned['reviews_cleaned_text_processed'].values))\n",
    "# Create a WordCloud object\n",
    "wordcloud = WordCloud(stopwords=['getgo', 'great', 'good', 'recommend','staffs','parts','kits','like','stars','people','experience','let','english', 'however','then','stuff','only','or','very','than','also','singapore','could','would','an','asked','one','enough','u','just','has','on','were','hobby','thing','that','here','then','when','their','there','need','store','products','cars','all','rc','models','it','car','model','product','with','is','as','was','what','be','other','have','this','a','in','no','too','you','the','my', 'they', 'if', 'at', 'me', 'your', 'of', 'are', 'for', 'can', 'shop', 'not', 'i', 'get', 'but', 'to', 'and', 'from', 'tamiya', 'item', 'place', 'paint', 'really', 'quite', 'come', 'got', 'will', 'staff', 'even', 'still', 'play', 'tell', 'got', 'absolutely'],background_color=\"white\", max_words=5000, contour_width=3, contour_color='steelblue')\n",
    "# Generate a word cloud\n",
    "wordcloud.generate(long_string)\n",
    "# Visualize the word cloud\n",
    "wordcloud.to_image()"
   ]
  },
  {
   "cell_type": "code",
   "execution_count": 13,
   "metadata": {},
   "outputs": [
    {
     "name": "stderr",
     "output_type": "stream",
     "text": [
      "[nltk_data] Downloading package stopwords to\n",
      "[nltk_data]     C:\\Users\\alext\\AppData\\Roaming\\nltk_data...\n",
      "[nltk_data]   Package stopwords is already up-to-date!\n"
     ]
    },
    {
     "name": "stdout",
     "output_type": "stream",
     "text": [
      "['great', 'sharing', 'many', 'types']\n"
     ]
    }
   ],
   "source": [
    "import gensim\n",
    "from gensim.utils import simple_preprocess\n",
    "import nltk\n",
    "nltk.download('stopwords')\n",
    "from nltk.corpus import stopwords\n",
    "stop_words = stopwords.words('english')\n",
    "stop_words.extend(['like','stars','people','experience','let','english', 'however','then','stuff','only','or','very','than','also','singapore','could','would','an','asked','one','enough','u','just','has','on','were','hobby','thing','that','here','then','when','their','there','need','store','products','cars','all','rc','models','it','car','model','product','with','is','as','was','what','be','other','have','this','a','in','no','too','you','the','my', 'they', 'if', 'at', 'me', 'your', 'of', 'are', 'for', 'can', 'shop', 'not', 'i', 'get', 'but', 'to', 'and', 'from', 'tamiya', 'item', 'place', 'paint', 'really', 'quite', 'come', 'got', 'will', 'staff', 'even', 'still', 'play', 'tell', 'got', 'absolutely'])\n",
    "def sent_to_words(sentences):\n",
    "    for sentence in sentences:\n",
    "        # deacc=True removes punctuations\n",
    "        yield(gensim.utils.simple_preprocess(str(sentence), deacc=True))\n",
    "def remove_stopwords(texts):\n",
    "    return [[word for word in simple_preprocess(str(doc)) \n",
    "             if word not in stop_words] for doc in texts]\n",
    "data = reviews_cleaned.reviews_cleaned_text_processed.values.tolist()\n",
    "data_words = list(sent_to_words(data))\n",
    "# remove stop words\n",
    "data_words = remove_stopwords(data_words)\n",
    "print(data_words[:1][0][:30])"
   ]
  },
  {
   "cell_type": "code",
   "execution_count": 14,
   "metadata": {},
   "outputs": [
    {
     "name": "stdout",
     "output_type": "stream",
     "text": [
      "[(0, 1), (1, 1), (2, 1), (3, 1)]\n"
     ]
    }
   ],
   "source": [
    "import gensim.corpora as corpora\n",
    "# Create Dictionary\n",
    "id2word = corpora.Dictionary(data_words)\n",
    "# Create Corpus\n",
    "texts = data_words\n",
    "# Term Document Frequency\n",
    "corpus = [id2word.doc2bow(text) for text in texts]\n",
    "# View\n",
    "print(corpus[:1][0][:30])"
   ]
  },
  {
   "cell_type": "code",
   "execution_count": 15,
   "metadata": {},
   "outputs": [
    {
     "name": "stdout",
     "output_type": "stream",
     "text": [
      "[(0,\n",
      "  '0.051*\"getgo\" + 0.029*\"easy\" + 0.023*\"use\" + 0.021*\"app\" + '\n",
      "  '0.019*\"convenient\" + 0.017*\"good\" + 0.016*\"using\" + 0.014*\"service\" + '\n",
      "  '0.010*\"always\" + 0.009*\"sharing\"'),\n",
      " (1,\n",
      "  '0.021*\"good\" + 0.021*\"getgo\" + 0.019*\"convenient\" + 0.015*\"service\" + '\n",
      "  '0.012*\"well\" + 0.011*\"sharing\" + 0.008*\"best\" + 0.008*\"vehicles\" + '\n",
      "  '0.007*\"time\" + 0.007*\"customer\"'),\n",
      " (2,\n",
      "  '0.044*\"getgo\" + 0.022*\"great\" + 0.016*\"sharing\" + 0.016*\"service\" + '\n",
      "  '0.016*\"app\" + 0.012*\"convenient\" + 0.012*\"easy\" + 0.011*\"customer\" + '\n",
      "  '0.011*\"far\" + 0.010*\"available\"')]\n"
     ]
    }
   ],
   "source": [
    "from pprint import pprint\n",
    "# number of topics\n",
    "num_topics = 3\n",
    "# Build LDA model\n",
    "lda_model = gensim.models.LdaMulticore(corpus=corpus,\n",
    "                                       id2word=id2word,\n",
    "                                       num_topics=num_topics)\n",
    "# Print the Keyword in the 10 topics\n",
    "pprint(lda_model.print_topics())\n",
    "doc_lda = lda_model[corpus]"
   ]
  },
  {
   "cell_type": "code",
   "execution_count": 16,
   "metadata": {
    "scrolled": false
   },
   "outputs": [
    {
     "data": {
      "text/html": [
       "\n",
       "<link rel=\"stylesheet\" type=\"text/css\" href=\"https://cdn.jsdelivr.net/gh/bmabey/pyLDAvis@3.3.1/pyLDAvis/js/ldavis.v1.0.0.css\">\n",
       "\n",
       "\n",
       "<div id=\"ldavis_el1391227797653600008532287554\"></div>\n",
       "<script type=\"text/javascript\">\n",
       "\n",
       "var ldavis_el1391227797653600008532287554_data = {\"mdsDat\": {\"x\": [-0.031562026428148086, -0.017460601391293788, 0.04902262781944187], \"y\": [0.032527149373107654, -0.03942632024661526, 0.006899170873507609], \"topics\": [1, 2, 3], \"cluster\": [1, 1, 1], \"Freq\": [48.36900190717345, 30.800004634633147, 20.8309934581934]}, \"tinfo\": {\"Term\": [\"great\", \"good\", \"clean\", \"well\", \"best\", \"easy\", \"vehicles\", \"chance\", \"clear\", \"since\", \"reliable\", \"started\", \"close\", \"going\", \"days\", \"go\", \"easy\", \"use\", \"using\", \"getgo\", \"app\", \"convenient\", \"good\", \"shared\", \"meet\", \"expensive\", \"put\", \"properly\", \"islandwide\", \"staffs\", \"great\", \"bring\", \"near\", \"needed\", \"wanted\", \"locations\", \"sharing\", \"family\", \"getgo\", \"customer\", \"booking\", \"available\", \"service\", \"far\", \"app\", \"convenient\", \"easy\", \"takes\", \"cannot\", \"items\", \"adhoc\", \"large\", \"upkeep\", \"tho\", \"unlock\", \"vehicles\", \"good\", \"maintained\", \"well\", \"convenient\", \"best\", \"service\", \"getgo\", \"sharing\"], \"Freq\": [92.0, 135.0, 46.0, 65.0, 45.0, 157.0, 31.0, 4.3390554182855094, 4.340324197148303, 19.32695280762883, 10.050442737468531, 7.833809478900968, 2.8324227137864417, 2.8316368611344003, 4.228765803443381, 38.854564870454794, 119.95910489677716, 95.31354816933984, 65.6014535407193, 212.53092779714376, 88.2801210799687, 80.1516866125604, 70.8578760767531, 2.7684573993820774, 2.613576117972647, 1.9451664131663944, 1.9347840991989051, 1.9278970353598897, 1.916270999418225, 1.913027351387424, 58.21506466492076, 4.197851471184256, 19.188859528247175, 8.8480611493534, 3.0237630178087014, 13.510807756243748, 43.16429427602332, 16.96298484807547, 117.84284839496546, 29.294905695135206, 23.715785110416242, 26.51041720407301, 42.731081435571966, 28.475706659825317, 42.09479774650999, 31.140246180471035, 30.92919861350456, 2.513577532496864, 2.4099212793537372, 1.797612019683201, 1.7571799906858652, 1.7447270765934215, 2.2971728957878144, 1.7209628329349205, 5.311903724468425, 13.794880526381379, 38.747017463628076, 12.414406097654117, 20.827360533264194, 34.19587247419397, 14.864803628225067, 27.86167077282899, 38.418758761595434, 19.63623703669051], \"Total\": [92.0, 135.0, 46.0, 65.0, 45.0, 157.0, 31.0, 5.104212011978431, 5.1192402353863855, 22.918873994508377, 11.955499650103862, 9.336486761191686, 3.404493212346662, 3.4046125761430095, 5.094633026399549, 48.582675912596336, 157.77694596765792, 126.5462486724739, 95.95416476964344, 368.79253495370466, 139.32453143366484, 145.4878052672254, 135.6456013113261, 3.362838256513269, 3.3501173045694976, 2.5184066954638156, 2.51788744233241, 2.5189359011414187, 2.5161317749187138, 2.51923361898092, 92.71884975481974, 5.89410002700012, 31.24728428453131, 13.509855785856145, 4.164952244373087, 24.314846057076746, 102.10667414138729, 32.79338058853062, 368.79253495370466, 68.66747682909646, 53.36273369022695, 63.76718358840348, 130.4849135492051, 71.38334108106841, 139.32453143366484, 145.4878052672254, 157.77694596765792, 3.172623728361706, 3.1813909387378523, 2.3875177403906758, 2.3917355309081554, 2.3930453851288913, 3.1935238893590574, 2.3956172381465564, 8.887178646250037, 31.960927615215795, 135.6456013113261, 31.190554866764202, 65.4121733680902, 145.4878052672254, 45.413948737115234, 130.4849135492051, 368.79253495370466, 102.10667414138729], \"Category\": [\"Default\", \"Default\", \"Default\", \"Default\", \"Default\", \"Default\", \"Default\", \"Topic1\", \"Topic1\", \"Topic1\", \"Topic1\", \"Topic1\", \"Topic1\", \"Topic1\", \"Topic1\", \"Topic1\", \"Topic1\", \"Topic1\", \"Topic1\", \"Topic1\", \"Topic1\", \"Topic1\", \"Topic1\", \"Topic2\", \"Topic2\", \"Topic2\", \"Topic2\", \"Topic2\", \"Topic2\", \"Topic2\", \"Topic2\", \"Topic2\", \"Topic2\", \"Topic2\", \"Topic2\", \"Topic2\", \"Topic2\", \"Topic2\", \"Topic2\", \"Topic2\", \"Topic2\", \"Topic2\", \"Topic2\", \"Topic2\", \"Topic2\", \"Topic2\", \"Topic2\", \"Topic3\", \"Topic3\", \"Topic3\", \"Topic3\", \"Topic3\", \"Topic3\", \"Topic3\", \"Topic3\", \"Topic3\", \"Topic3\", \"Topic3\", \"Topic3\", \"Topic3\", \"Topic3\", \"Topic3\", \"Topic3\", \"Topic3\"], \"logprob\": [7.0, 6.0, 5.0, 4.0, 3.0, 2.0, 1.0, -6.8728, -6.8726, -5.379, -6.0329, -6.2821, -7.2994, -7.2997, -6.8986, -4.6807, -3.5534, -3.7833, -4.1569, -2.9814, -3.86, -3.9566, -4.0798, -6.8709, -6.9284, -7.2238, -7.2292, -7.2327, -7.2388, -7.2405, -3.825, -6.4546, -4.9348, -5.709, -6.7827, -5.2857, -4.1241, -5.0581, -3.1198, -4.5117, -4.723, -4.6116, -4.1342, -4.5401, -4.1492, -4.4507, -4.4575, -6.5764, -6.6185, -6.9116, -6.9344, -6.9415, -6.6664, -6.9552, -5.8281, -4.8738, -3.841, -4.9792, -4.4618, -3.966, -4.7991, -4.1708, -3.8495, -4.5207], \"loglift\": [7.0, 6.0, 5.0, 4.0, 3.0, 2.0, 1.0, 0.5639, 0.5613, 0.5559, 0.5527, 0.5508, 0.5423, 0.542, 0.54, 0.5029, 0.4523, 0.4429, 0.346, 0.1752, 0.27, 0.1301, 0.0769, 0.9832, 0.9294, 0.9194, 0.9142, 0.9102, 0.9053, 0.9024, 0.7122, 0.8383, 0.6901, 0.7544, 0.8575, 0.5901, 0.3167, 0.5185, 0.0368, 0.3258, 0.3667, 0.3, 0.0613, 0.2586, -0.0192, -0.3639, -0.4518, 1.3359, 1.291, 1.2849, 1.2604, 1.2528, 1.2393, 1.238, 1.0541, 0.7285, 0.3157, 0.6475, 0.4243, 0.1207, 0.4519, 0.0247, -0.693, -0.0799]}, \"token.table\": {\"Topic\": [3, 1, 2, 3, 1, 2, 3, 1, 2, 3, 1, 2, 3, 1, 2, 3, 3, 1, 1, 2, 3, 1, 1, 1, 2, 3, 1, 2, 3, 1, 3, 1, 2, 3, 2, 1, 2, 3, 1, 2, 3, 1, 2, 3, 1, 2, 3, 1, 1, 2, 3, 1, 2, 3, 2, 3, 3, 1, 2, 3, 1, 2, 3, 2, 1, 2, 3, 1, 2, 3, 2, 2, 1, 2, 3, 1, 2, 3, 2, 1, 2, 3, 1, 2, 3, 2, 1, 3, 3, 3, 1, 2, 3, 3, 1, 2, 3, 1, 2, 3, 1, 2, 3, 2, 3, 1, 2, 3], \"Freq\": [0.8362128563773892, 0.6316188476965992, 0.30145445003701327, 0.06459738215078856, 0.4234152816639395, 0.4234152816639395, 0.17250252215938275, 0.2642359965098745, 0.4183736611406346, 0.3302949956373431, 0.3373140533708562, 0.4497520711611416, 0.2248760355805708, 0.1696611858331429, 0.6786447433325716, 0.1696611858331429, 0.6286558422126696, 0.7836665073106103, 0.7171327045170828, 0.021731294076275238, 0.2607755289153028, 0.7813659480854763, 0.8811884215601501, 0.5498742650840022, 0.21307627772005086, 0.23369656266070093, 0.3931992443409439, 0.4223251142921249, 0.18931815468267668, 0.7851399657782334, 0.19628499144455835, 0.7605673900203286, 0.1964799090885849, 0.04436643108451917, 0.7941529077104282, 0.3659275068517017, 0.5183973013732441, 0.12197583561723391, 0.4342749937242923, 0.392248381428393, 0.16810644918359702, 0.5775604976026382, 0.3199630925685977, 0.1030389620136162, 0.8027552881229464, 0.14408428248360577, 0.061750406778688184, 0.8811575275911764, 0.5234227967115928, 0.191675953725372, 0.287513930588058, 0.2804176288721535, 0.6255470182532654, 0.086282347345278, 0.7948709284372087, 0.837690110596931, 0.8357551479920129, 0.28788995758262986, 0.5757799151652597, 0.1645085471900742, 0.25648790264146853, 0.35267086613201926, 0.38473185396220283, 0.8954910312865928, 0.3200278113432856, 0.6080528415522427, 0.06400556226865713, 0.29608014055839993, 0.6661803162563998, 0.07402003513959998, 0.7939860633586306, 0.7943166824595336, 0.8364351380256304, 0.08364351380256305, 0.08364351380256305, 0.4598232728059735, 0.32954001217761436, 0.21458419397612097, 0.8921035658463471, 0.3819534847055799, 0.42112820108563936, 0.19587358190029738, 0.8290110589443712, 0.043632160997072164, 0.1308964829912165, 0.7938922317212643, 0.8568533544387418, 0.10710666930484272, 0.9455895992901604, 0.8348579097499574, 0.3375649482713905, 0.11252164942379683, 0.5626082471189842, 0.6262674303655832, 0.7507136797541769, 0.15804498521140567, 0.08692474186627311, 0.6878284038889378, 0.23969777711281168, 0.0833731398653258, 0.3128820327242083, 0.25030562617936664, 0.43803484581389157, 0.7202963741188259, 0.24009879137294193, 0.3821918568477908, 0.3057534854782326, 0.32104115975214426], \"Term\": [\"adhoc\", \"app\", \"app\", \"app\", \"available\", \"available\", \"available\", \"best\", \"best\", \"best\", \"booking\", \"booking\", \"booking\", \"bring\", \"bring\", \"bring\", \"cannot\", \"chance\", \"clean\", \"clean\", \"clean\", \"clear\", \"close\", \"convenient\", \"convenient\", \"convenient\", \"customer\", \"customer\", \"customer\", \"days\", \"days\", \"easy\", \"easy\", \"easy\", \"expensive\", \"family\", \"family\", \"family\", \"far\", \"far\", \"far\", \"getgo\", \"getgo\", \"getgo\", \"go\", \"go\", \"go\", \"going\", \"good\", \"good\", \"good\", \"great\", \"great\", \"great\", \"islandwide\", \"items\", \"large\", \"locations\", \"locations\", \"locations\", \"maintained\", \"maintained\", \"maintained\", \"meet\", \"near\", \"near\", \"near\", \"needed\", \"needed\", \"needed\", \"properly\", \"put\", \"reliable\", \"reliable\", \"reliable\", \"service\", \"service\", \"service\", \"shared\", \"sharing\", \"sharing\", \"sharing\", \"since\", \"since\", \"since\", \"staffs\", \"started\", \"started\", \"takes\", \"tho\", \"unlock\", \"unlock\", \"unlock\", \"upkeep\", \"use\", \"use\", \"use\", \"using\", \"using\", \"using\", \"vehicles\", \"vehicles\", \"vehicles\", \"wanted\", \"wanted\", \"well\", \"well\", \"well\"]}, \"R\": 7, \"lambda.step\": 0.01, \"plot.opts\": {\"xlab\": \"PC1\", \"ylab\": \"PC2\"}, \"topic.order\": [1, 3, 2]};\n",
       "\n",
       "function LDAvis_load_lib(url, callback){\n",
       "  var s = document.createElement('script');\n",
       "  s.src = url;\n",
       "  s.async = true;\n",
       "  s.onreadystatechange = s.onload = callback;\n",
       "  s.onerror = function(){console.warn(\"failed to load library \" + url);};\n",
       "  document.getElementsByTagName(\"head\")[0].appendChild(s);\n",
       "}\n",
       "\n",
       "if(typeof(LDAvis) !== \"undefined\"){\n",
       "   // already loaded: just create the visualization\n",
       "   !function(LDAvis){\n",
       "       new LDAvis(\"#\" + \"ldavis_el1391227797653600008532287554\", ldavis_el1391227797653600008532287554_data);\n",
       "   }(LDAvis);\n",
       "}else if(typeof define === \"function\" && define.amd){\n",
       "   // require.js is available: use it to load d3/LDAvis\n",
       "   require.config({paths: {d3: \"https://d3js.org/d3.v5\"}});\n",
       "   require([\"d3\"], function(d3){\n",
       "      window.d3 = d3;\n",
       "      LDAvis_load_lib(\"https://cdn.jsdelivr.net/gh/bmabey/pyLDAvis@3.3.1/pyLDAvis/js/ldavis.v3.0.0.js\", function(){\n",
       "        new LDAvis(\"#\" + \"ldavis_el1391227797653600008532287554\", ldavis_el1391227797653600008532287554_data);\n",
       "      });\n",
       "    });\n",
       "}else{\n",
       "    // require.js not available: dynamically load d3 & LDAvis\n",
       "    LDAvis_load_lib(\"https://d3js.org/d3.v5.js\", function(){\n",
       "         LDAvis_load_lib(\"https://cdn.jsdelivr.net/gh/bmabey/pyLDAvis@3.3.1/pyLDAvis/js/ldavis.v3.0.0.js\", function(){\n",
       "                 new LDAvis(\"#\" + \"ldavis_el1391227797653600008532287554\", ldavis_el1391227797653600008532287554_data);\n",
       "            })\n",
       "         });\n",
       "}\n",
       "</script>"
      ],
      "text/plain": [
       "PreparedData(topic_coordinates=              x         y  topics  cluster       Freq\n",
       "topic                                                \n",
       "0     -0.031562  0.032527       1        1  48.369002\n",
       "2     -0.017461 -0.039426       2        1  30.800005\n",
       "1      0.049023  0.006899       3        1  20.830993, topic_info=           Term        Freq       Total Category  logprob  loglift\n",
       "0         great   92.000000   92.000000  Default   7.0000   7.0000\n",
       "37         good  135.000000  135.000000  Default   6.0000   6.0000\n",
       "160       clean   46.000000   46.000000  Default   5.0000   5.0000\n",
       "241        well   65.000000   65.000000  Default   4.0000   4.0000\n",
       "8          best   45.000000   45.000000  Default   3.0000   3.0000\n",
       "..          ...         ...         ...      ...      ...      ...\n",
       "5    convenient   34.195872  145.487805   Topic3  -3.9660   0.1207\n",
       "8          best   14.864804   45.413949   Topic3  -4.7991   0.4519\n",
       "64      service   27.861671  130.484914   Topic3  -4.1708   0.0247\n",
       "6         getgo   38.418759  368.792535   Topic3  -3.8495  -0.6930\n",
       "2       sharing   19.636237  102.106674   Topic3  -4.5207  -0.0799\n",
       "\n",
       "[64 rows x 6 columns], token_table=      Topic      Freq       Term\n",
       "term                            \n",
       "890       3  0.836213      adhoc\n",
       "62        1  0.631619        app\n",
       "62        2  0.301454        app\n",
       "62        3  0.064597        app\n",
       "118       1  0.423415  available\n",
       "...     ...       ...        ...\n",
       "78        2  0.720296     wanted\n",
       "78        3  0.240099     wanted\n",
       "241       1  0.382192       well\n",
       "241       2  0.305753       well\n",
       "241       3  0.321041       well\n",
       "\n",
       "[108 rows x 3 columns], R=7, lambda_step=0.01, plot_opts={'xlab': 'PC1', 'ylab': 'PC2'}, topic_order=[1, 3, 2])"
      ]
     },
     "execution_count": 16,
     "metadata": {},
     "output_type": "execute_result"
    }
   ],
   "source": [
    "import pickle \n",
    "import pyLDAvis\n",
    "import pyLDAvis.gensim_models\n",
    "pyLDAvis.enable_notebook()\n",
    "# Visualize the topics\n",
    "pyLDAvis.enable_notebook()\n",
    "LDAvis_data_filepath = os.path.join('./results/ldavis_prepared_'+str(num_topics))\n",
    "# # this is a bit time consuming - make the if statement True\n",
    "# # if you want to execute visualization prep yourself\n",
    "if 1 == 1:\n",
    "    LDAvis_prepared = pyLDAvis.gensim_models.prepare(lda_model, corpus, id2word, R=7)\n",
    "    with open(LDAvis_data_filepath, 'wb') as f:\n",
    "        pickle.dump(LDAvis_prepared, f)\n",
    "# load the pre-prepared pyLDAvis data from disk\n",
    "with open(LDAvis_data_filepath, 'rb') as f:\n",
    "    LDAvis_prepared = pickle.load(f)\n",
    "pyLDAvis.save_html(LDAvis_prepared, './results/ldavis_prepared_'+ str(num_topics) +'.html')\n",
    "LDAvis_prepared"
   ]
  },
  {
   "cell_type": "code",
   "execution_count": null,
   "metadata": {},
   "outputs": [],
   "source": [
    "#TO TAKE NOTE!!!!!!!!!!\n",
    "#Remember to manually save any changes by overwriting in disk\n",
    "#error autosaving because filepath too long"
   ]
  },
  {
   "cell_type": "code",
   "execution_count": null,
   "metadata": {},
   "outputs": [],
   "source": []
  }
 ],
 "metadata": {
  "kernelspec": {
   "display_name": "Python 3",
   "language": "python",
   "name": "python3"
  },
  "language_info": {
   "codemirror_mode": {
    "name": "ipython",
    "version": 3
   },
   "file_extension": ".py",
   "mimetype": "text/x-python",
   "name": "python",
   "nbconvert_exporter": "python",
   "pygments_lexer": "ipython3",
   "version": "3.8.3"
  },
  "toc": {
   "base_numbering": 1,
   "nav_menu": {},
   "number_sections": true,
   "sideBar": true,
   "skip_h1_title": false,
   "title_cell": "Table of Contents",
   "title_sidebar": "Contents",
   "toc_cell": false,
   "toc_position": {},
   "toc_section_display": true,
   "toc_window_display": false
  },
  "varInspector": {
   "cols": {
    "lenName": 16,
    "lenType": 16,
    "lenVar": 40
   },
   "kernels_config": {
    "python": {
     "delete_cmd_postfix": "",
     "delete_cmd_prefix": "del ",
     "library": "var_list.py",
     "varRefreshCmd": "print(var_dic_list())"
    },
    "r": {
     "delete_cmd_postfix": ") ",
     "delete_cmd_prefix": "rm(",
     "library": "var_list.r",
     "varRefreshCmd": "cat(var_dic_list()) "
    }
   },
   "types_to_exclude": [
    "module",
    "function",
    "builtin_function_or_method",
    "instance",
    "_Feature"
   ],
   "window_display": false
  }
 },
 "nbformat": 4,
 "nbformat_minor": 2
}
